{
  "cells": [
    {
      "cell_type": "markdown",
      "metadata": {
        "id": "view-in-github",
        "colab_type": "text"
      },
      "source": [
        "<a href=\"https://colab.research.google.com/github/psalib/practcomp_2022/blob/master/PractComp2022.ipynb\" target=\"_parent\"><img src=\"https://colab.research.google.com/assets/colab-badge.svg\" alt=\"Open In Colab\"/></a>"
      ]
    },
    {
      "cell_type": "markdown",
      "metadata": {
        "id": "OB3ECyhm7u6U"
      },
      "source": [
        "# BASICS "
      ]
    },
    {
      "cell_type": "markdown",
      "metadata": {
        "id": "1kVKsLal75FW"
      },
      "source": [
        "## MARKDOWN CARRY OVER \n"
      ]
    },
    {
      "cell_type": "markdown",
      "metadata": {
        "id": "nzg47Ria7-3x"
      },
      "source": [
        "* Use asterices \n",
        "* to creat \n",
        "* unordered lists \n",
        "1. Use numbers \n",
        "2. to create \n",
        "3. ordered lists \n",
        "\n",
        "* top level \n",
        "  * indent 1 \n",
        "  *indent 2 \n",
        "    * subindent 1\n",
        "    * subindent 2\n",
        "\n",
        "Line breaks \n",
        "dont \n",
        "matter \n",
        "\n",
        "\n",
        "but _blank lines_ creates new paragraphs \n",
        "\n",
        "[Marx](https://www.marxists.org/)\n",
        "\n",
        "\n"
      ]
    },
    {
      "cell_type": "markdown",
      "metadata": {
        "id": "OKjUrsq89Yxs"
      },
      "source": [
        "# PYTHON BASICS \n",
        "\n"
      ]
    },
    {
      "cell_type": "markdown",
      "metadata": {
        "id": "cxkaK1q79cTd"
      },
      "source": [
        "## variables "
      ]
    },
    {
      "cell_type": "code",
      "execution_count": 24,
      "metadata": {
        "id": "RdJDfOnC8J7R"
      },
      "outputs": [],
      "source": [
        "myage = 23\n",
        "givenname = 'Bola'\n",
        "familyname = 'Salib'\n"
      ]
    },
    {
      "cell_type": "code",
      "execution_count": 25,
      "metadata": {
        "colab": {
          "base_uri": "https://localhost:8080/"
        },
        "id": "dbLOjBOP92nt",
        "outputId": "48df5f1d-293c-48a7-b53b-37a950baf6b7"
      },
      "outputs": [
        {
          "output_type": "stream",
          "name": "stdout",
          "text": [
            "Bola is 23 years old\n"
          ]
        }
      ],
      "source": [
        "print(givenname, 'is', myage, 'years old')"
      ]
    },
    {
      "cell_type": "markdown",
      "metadata": {
        "id": "Iph62u8tAEqE"
      },
      "source": [
        "### objects; strings vs integers"
      ]
    },
    {
      "cell_type": "code",
      "execution_count": 26,
      "metadata": {
        "colab": {
          "base_uri": "https://localhost:8080/"
        },
        "id": "CXDsXYn_-eGn",
        "outputId": "d2c632db-bd44-4197-cf6c-84400d643b79"
      },
      "outputs": [
        {
          "output_type": "stream",
          "name": "stdout",
          "text": [
            "<class 'int'> <class 'str'>\n"
          ]
        }
      ],
      "source": [
        "#type(myage)\n",
        "#type(givenname)\n",
        "\n",
        "print(type(myage), type(givenname))"
      ]
    },
    {
      "cell_type": "code",
      "execution_count": 27,
      "metadata": {
        "colab": {
          "base_uri": "https://localhost:8080/"
        },
        "id": "Hz8SMJWR_DsS",
        "outputId": "0e24dd30-ae1f-4e97-a3a9-7abbee9906c9"
      },
      "outputs": [
        {
          "output_type": "stream",
          "name": "stdout",
          "text": [
            "24\n"
          ]
        }
      ],
      "source": [
        "myage_str = str(myage)\n",
        "type(myage_str)\n",
        "print(myage + 1)\n",
        "\n"
      ]
    },
    {
      "cell_type": "code",
      "execution_count": null,
      "metadata": {
        "id": "0cBEsm1V_j2R"
      },
      "outputs": [],
      "source": [
        "print(myage + 1)"
      ]
    },
    {
      "cell_type": "code",
      "execution_count": null,
      "metadata": {
        "id": "E1ILYHWR_mqo"
      },
      "outputs": [],
      "source": [
        "print(myage_str + str(1))"
      ]
    },
    {
      "cell_type": "code",
      "execution_count": null,
      "metadata": {
        "id": "yJDC5u3G_tJT"
      },
      "outputs": [],
      "source": [
        "print(myage + myage)"
      ]
    },
    {
      "cell_type": "code",
      "execution_count": null,
      "metadata": {
        "id": "BOBUXsns_0nl"
      },
      "outputs": [],
      "source": [
        "print(myage_str + myage_str)"
      ]
    },
    {
      "cell_type": "markdown",
      "metadata": {
        "id": "AZHQ825VAAhw"
      },
      "source": [
        "### indexing \n",
        "\n",
        "**python starts counting at ZERO**\n",
        "\n",
        "\n",
        "\n"
      ]
    },
    {
      "cell_type": "code",
      "execution_count": null,
      "metadata": {
        "id": "0946c6KEAVdb"
      },
      "outputs": [],
      "source": [
        "givenname[0]"
      ]
    },
    {
      "cell_type": "code",
      "execution_count": null,
      "metadata": {
        "id": "NxuKS3izAfR7"
      },
      "outputs": [],
      "source": [
        "givenname[2:4]"
      ]
    },
    {
      "cell_type": "code",
      "execution_count": null,
      "metadata": {
        "id": "tJY0fmcJAjwr"
      },
      "outputs": [],
      "source": [
        "givenname[0:3]"
      ]
    },
    {
      "cell_type": "code",
      "execution_count": null,
      "metadata": {
        "id": "NxzKDpvaAmwX"
      },
      "outputs": [],
      "source": [
        "givenname[0:]"
      ]
    },
    {
      "cell_type": "code",
      "execution_count": null,
      "metadata": {
        "id": "xdx0Vy8EA12M"
      },
      "outputs": [],
      "source": [
        "len(givenname)"
      ]
    },
    {
      "cell_type": "markdown",
      "metadata": {
        "id": "uHwDh6FFBQ8h"
      },
      "source": [
        "### math: integers vs floats"
      ]
    },
    {
      "cell_type": "code",
      "execution_count": null,
      "metadata": {
        "id": "qPxxDz4HBXMw"
      },
      "outputs": [],
      "source": [
        "myage/4"
      ]
    },
    {
      "cell_type": "code",
      "execution_count": null,
      "metadata": {
        "id": "vFjJHKCwBaqS"
      },
      "outputs": [],
      "source": [
        "type(myage/4)"
      ]
    },
    {
      "cell_type": "code",
      "execution_count": null,
      "metadata": {
        "id": "FNUQH7iBBdqk"
      },
      "outputs": [],
      "source": [
        "float(myage)"
      ]
    },
    {
      "cell_type": "code",
      "execution_count": 29,
      "metadata": {
        "id": "UqmLIUTBBm-k",
        "colab": {
          "base_uri": "https://localhost:8080/"
        },
        "outputId": "22abf33c-7aa5-4bba-b506-1bc20ecee487"
      },
      "outputs": [
        {
          "output_type": "execute_result",
          "data": {
            "text/plain": [
              "46.0"
            ]
          },
          "metadata": {},
          "execution_count": 29
        }
      ],
      "source": [
        "myage + float(myage)"
      ]
    },
    {
      "cell_type": "markdown",
      "metadata": {
        "id": "KeMACkUbBvBC"
      },
      "source": [
        "### BASICS WRAP-UP\n"
      ]
    },
    {
      "cell_type": "code",
      "execution_count": 30,
      "metadata": {
        "id": "5hiBo1Q5By5d",
        "colab": {
          "base_uri": "https://localhost:8080/"
        },
        "outputId": "b86da19b-7cbb-4841-b7bd-bc74391ab7e4"
      },
      "outputs": [
        {
          "output_type": "stream",
          "name": "stdout",
          "text": [
            "Bola john Salib is my full name, and i am 23 years old ;/ \n"
          ]
        }
      ],
      "source": [
        "fullname_age = givenname + ' john ' + familyname + ' is my full name, and i am '  +str(myage)+  ' years old ;/ '\n",
        "print(fullname_age)"
      ]
    },
    {
      "cell_type": "markdown",
      "metadata": {
        "id": "4aXi-FkHD-sZ"
      },
      "source": [
        "# MATH IN PYTHON \n"
      ]
    },
    {
      "cell_type": "code",
      "execution_count": 31,
      "metadata": {
        "colab": {
          "base_uri": "https://localhost:8080/"
        },
        "id": "Lv2vuQGcEA-4",
        "outputId": "492926bb-d11a-408f-9359-af37196349a8"
      },
      "outputs": [
        {
          "output_type": "execute_result",
          "data": {
            "text/plain": [
              "3.0"
            ]
          },
          "metadata": {},
          "execution_count": 31
        }
      ],
      "source": [
        "6/2"
      ]
    },
    {
      "cell_type": "code",
      "execution_count": 32,
      "metadata": {
        "colab": {
          "base_uri": "https://localhost:8080/"
        },
        "id": "tymAgofLED7x",
        "outputId": "46091f99-4fb8-486b-b667-15d515b6843e"
      },
      "outputs": [
        {
          "output_type": "stream",
          "name": "stdout",
          "text": [
            "<class 'float'> <class 'int'>\n"
          ]
        }
      ],
      "source": [
        "print(type(5/2), type(5//2))"
      ]
    },
    {
      "cell_type": "code",
      "source": [
        "2*5"
      ],
      "metadata": {
        "colab": {
          "base_uri": "https://localhost:8080/"
        },
        "id": "5QiUdZMSi57f",
        "outputId": "6bb6093c-4f0b-4d31-98fb-dd84d71da459"
      },
      "execution_count": 33,
      "outputs": [
        {
          "output_type": "execute_result",
          "data": {
            "text/plain": [
              "10"
            ]
          },
          "metadata": {},
          "execution_count": 33
        }
      ]
    },
    {
      "cell_type": "code",
      "source": [
        "1+5"
      ],
      "metadata": {
        "colab": {
          "base_uri": "https://localhost:8080/"
        },
        "id": "rSgp3TMVjCXW",
        "outputId": "5824440a-5afa-44a3-839b-385fc36046da"
      },
      "execution_count": 34,
      "outputs": [
        {
          "output_type": "execute_result",
          "data": {
            "text/plain": [
              "6"
            ]
          },
          "metadata": {},
          "execution_count": 34
        }
      ]
    },
    {
      "cell_type": "code",
      "source": [
        "5-2"
      ],
      "metadata": {
        "colab": {
          "base_uri": "https://localhost:8080/"
        },
        "id": "GvzUoblUjDTy",
        "outputId": "033c18a7-e4b8-404f-bc03-1ddd1dbca4a8"
      },
      "execution_count": 35,
      "outputs": [
        {
          "output_type": "execute_result",
          "data": {
            "text/plain": [
              "3"
            ]
          },
          "metadata": {},
          "execution_count": 35
        }
      ]
    },
    {
      "cell_type": "code",
      "source": [],
      "metadata": {
        "id": "am4-7RBtjFmb"
      },
      "execution_count": 35,
      "outputs": []
    },
    {
      "cell_type": "markdown",
      "source": [
        "built in summary tools "
      ],
      "metadata": {
        "id": "aExFRWT1jHM9"
      }
    },
    {
      "cell_type": "code",
      "source": [
        "nums = (2,4,1,5,3)\n",
        "type(nums)"
      ],
      "metadata": {
        "colab": {
          "base_uri": "https://localhost:8080/"
        },
        "id": "AXVOToSVlf3y",
        "outputId": "a5cec5b3-9b22-4fab-9f77-4cac39e28b29"
      },
      "execution_count": 36,
      "outputs": [
        {
          "output_type": "execute_result",
          "data": {
            "text/plain": [
              "tuple"
            ]
          },
          "metadata": {},
          "execution_count": 36
        }
      ]
    },
    {
      "cell_type": "code",
      "source": [
        "\n",
        "max(nums)"
      ],
      "metadata": {
        "colab": {
          "base_uri": "https://localhost:8080/"
        },
        "id": "3-fvKy_LlhWC",
        "outputId": "db9f56ff-b02e-4e5b-eddf-0b64e3db8b5a"
      },
      "execution_count": 37,
      "outputs": [
        {
          "output_type": "execute_result",
          "data": {
            "text/plain": [
              "5"
            ]
          },
          "metadata": {},
          "execution_count": 37
        }
      ]
    },
    {
      "cell_type": "code",
      "source": [
        "min(nums)\n"
      ],
      "metadata": {
        "colab": {
          "base_uri": "https://localhost:8080/"
        },
        "id": "Q12divoBli7_",
        "outputId": "530429fd-fabc-4c2c-acd6-e1a13303bc79"
      },
      "execution_count": 38,
      "outputs": [
        {
          "output_type": "execute_result",
          "data": {
            "text/plain": [
              "1"
            ]
          },
          "metadata": {},
          "execution_count": 38
        }
      ]
    },
    {
      "cell_type": "code",
      "source": [
        "pi = 3.14159\n",
        "print(pi)\n"
      ],
      "metadata": {
        "colab": {
          "base_uri": "https://localhost:8080/"
        },
        "id": "6l9xgNgQlkBH",
        "outputId": "e3927423-54e2-4abc-f9e3-8944160fabaf"
      },
      "execution_count": 39,
      "outputs": [
        {
          "output_type": "stream",
          "name": "stdout",
          "text": [
            "3.14159\n"
          ]
        }
      ]
    },
    {
      "cell_type": "code",
      "source": [
        "round(pi, ndigits=2)\n"
      ],
      "metadata": {
        "colab": {
          "base_uri": "https://localhost:8080/"
        },
        "id": "VeXuEK8zlmvh",
        "outputId": "9abedc42-5eba-4207-d63e-1913e0e66947"
      },
      "execution_count": 40,
      "outputs": [
        {
          "output_type": "execute_result",
          "data": {
            "text/plain": [
              "3.14"
            ]
          },
          "metadata": {},
          "execution_count": 40
        }
      ]
    },
    {
      "cell_type": "code",
      "source": [
        "round(2.55, ndigits=0)\n"
      ],
      "metadata": {
        "colab": {
          "base_uri": "https://localhost:8080/"
        },
        "id": "EjlJBTO6ln3V",
        "outputId": "c5df0339-991e-4748-9755-0eed9ab019f4"
      },
      "execution_count": 41,
      "outputs": [
        {
          "output_type": "execute_result",
          "data": {
            "text/plain": [
              "3.0"
            ]
          },
          "metadata": {},
          "execution_count": 41
        }
      ]
    },
    {
      "cell_type": "code",
      "source": [
        "round(2.55)\n"
      ],
      "metadata": {
        "colab": {
          "base_uri": "https://localhost:8080/"
        },
        "id": "IIYlfrWalpCC",
        "outputId": "d4a5b7aa-25be-4f5b-e31f-03d162fd41e9"
      },
      "execution_count": 42,
      "outputs": [
        {
          "output_type": "execute_result",
          "data": {
            "text/plain": [
              "3"
            ]
          },
          "metadata": {},
          "execution_count": 42
        }
      ]
    },
    {
      "cell_type": "markdown",
      "source": [
        "Libraries \n"
      ],
      "metadata": {
        "id": "td4C-Xj-lwS8"
      }
    },
    {
      "cell_type": "code",
      "source": [
        "import math\n"
      ],
      "metadata": {
        "id": "Rtg1N4jUlyVb"
      },
      "execution_count": 43,
      "outputs": []
    },
    {
      "cell_type": "code",
      "source": [
        "print(math.pi)\n"
      ],
      "metadata": {
        "colab": {
          "base_uri": "https://localhost:8080/"
        },
        "id": "qr3Bvovwl0fv",
        "outputId": "4762d0e5-269f-4ed3-e802-1d8035aed601"
      },
      "execution_count": 44,
      "outputs": [
        {
          "output_type": "stream",
          "name": "stdout",
          "text": [
            "3.141592653589793\n"
          ]
        }
      ]
    },
    {
      "cell_type": "code",
      "source": [
        "\n",
        "import math as m\n",
        "print('pi is', m.pi)"
      ],
      "metadata": {
        "colab": {
          "base_uri": "https://localhost:8080/"
        },
        "id": "-XDqUhdBl1ss",
        "outputId": "e29fdabb-1d43-42cb-bd11-f92129b41564"
      },
      "execution_count": 45,
      "outputs": [
        {
          "output_type": "stream",
          "name": "stdout",
          "text": [
            "pi is 3.141592653589793\n"
          ]
        }
      ]
    },
    {
      "cell_type": "code",
      "source": [
        "type(m.pi)\n"
      ],
      "metadata": {
        "colab": {
          "base_uri": "https://localhost:8080/"
        },
        "id": "04S8j-D0l3Og",
        "outputId": "79dae282-0719-4188-8574-e6f7f4d932ff"
      },
      "execution_count": 46,
      "outputs": [
        {
          "output_type": "execute_result",
          "data": {
            "text/plain": [
              "float"
            ]
          },
          "metadata": {},
          "execution_count": 46
        }
      ]
    },
    {
      "cell_type": "code",
      "source": [
        "print('cosine of pi is', m.cos(m.pi))\n"
      ],
      "metadata": {
        "colab": {
          "base_uri": "https://localhost:8080/"
        },
        "id": "oRFhfKzCl5P1",
        "outputId": "a1d12959-f26d-4d25-8c40-4ffa8ed9f603"
      },
      "execution_count": 47,
      "outputs": [
        {
          "output_type": "stream",
          "name": "stdout",
          "text": [
            "cosine of pi is -1.0\n"
          ]
        }
      ]
    },
    {
      "cell_type": "markdown",
      "source": [
        "# reading tables as data "
      ],
      "metadata": {
        "id": "eFZqKMLtqfvk"
      }
    },
    {
      "cell_type": "code",
      "source": [
        "import pandas as pd\n"
      ],
      "metadata": {
        "id": "JaFQK1djqmHg"
      },
      "execution_count": 48,
      "outputs": []
    },
    {
      "cell_type": "code",
      "source": [
        "data = pd.read_csv('sample_data/california_housing_test.csv')\n",
        "print(data)\n"
      ],
      "metadata": {
        "colab": {
          "base_uri": "https://localhost:8080/"
        },
        "id": "8zcjF4Ysqni7",
        "outputId": "d2748b8c-1228-4346-ee55-e166a7603a4e"
      },
      "execution_count": 49,
      "outputs": [
        {
          "output_type": "stream",
          "name": "stdout",
          "text": [
            "      longitude  latitude  housing_median_age  total_rooms  total_bedrooms  \\\n",
            "0       -122.05     37.37                27.0       3885.0           661.0   \n",
            "1       -118.30     34.26                43.0       1510.0           310.0   \n",
            "2       -117.81     33.78                27.0       3589.0           507.0   \n",
            "3       -118.36     33.82                28.0         67.0            15.0   \n",
            "4       -119.67     36.33                19.0       1241.0           244.0   \n",
            "...         ...       ...                 ...          ...             ...   \n",
            "2995    -119.86     34.42                23.0       1450.0           642.0   \n",
            "2996    -118.14     34.06                27.0       5257.0          1082.0   \n",
            "2997    -119.70     36.30                10.0        956.0           201.0   \n",
            "2998    -117.12     34.10                40.0         96.0            14.0   \n",
            "2999    -119.63     34.42                42.0       1765.0           263.0   \n",
            "\n",
            "      population  households  median_income  median_house_value  \n",
            "0         1537.0       606.0         6.6085            344700.0  \n",
            "1          809.0       277.0         3.5990            176500.0  \n",
            "2         1484.0       495.0         5.7934            270500.0  \n",
            "3           49.0        11.0         6.1359            330000.0  \n",
            "4          850.0       237.0         2.9375             81700.0  \n",
            "...          ...         ...            ...                 ...  \n",
            "2995      1258.0       607.0         1.1790            225000.0  \n",
            "2996      3496.0      1036.0         3.3906            237200.0  \n",
            "2997       693.0       220.0         2.2895             62000.0  \n",
            "2998        46.0        14.0         3.2708            162500.0  \n",
            "2999       753.0       260.0         8.5608            500001.0  \n",
            "\n",
            "[3000 rows x 9 columns]\n"
          ]
        }
      ]
    },
    {
      "cell_type": "code",
      "source": [
        "data = pd.read_csv('sample_data/california_housing_test.csv', index_col='median_income')\n",
        "print(data)\n"
      ],
      "metadata": {
        "colab": {
          "base_uri": "https://localhost:8080/"
        },
        "id": "cAOMupujq1CS",
        "outputId": "7dc56718-09c6-4c73-b3d3-23d4e56464c9"
      },
      "execution_count": 50,
      "outputs": [
        {
          "output_type": "stream",
          "name": "stdout",
          "text": [
            "               longitude  latitude  housing_median_age  total_rooms  \\\n",
            "median_income                                                         \n",
            "6.6085           -122.05     37.37                27.0       3885.0   \n",
            "3.5990           -118.30     34.26                43.0       1510.0   \n",
            "5.7934           -117.81     33.78                27.0       3589.0   \n",
            "6.1359           -118.36     33.82                28.0         67.0   \n",
            "2.9375           -119.67     36.33                19.0       1241.0   \n",
            "...                  ...       ...                 ...          ...   \n",
            "1.1790           -119.86     34.42                23.0       1450.0   \n",
            "3.3906           -118.14     34.06                27.0       5257.0   \n",
            "2.2895           -119.70     36.30                10.0        956.0   \n",
            "3.2708           -117.12     34.10                40.0         96.0   \n",
            "8.5608           -119.63     34.42                42.0       1765.0   \n",
            "\n",
            "               total_bedrooms  population  households  median_house_value  \n",
            "median_income                                                              \n",
            "6.6085                  661.0      1537.0       606.0            344700.0  \n",
            "3.5990                  310.0       809.0       277.0            176500.0  \n",
            "5.7934                  507.0      1484.0       495.0            270500.0  \n",
            "6.1359                   15.0        49.0        11.0            330000.0  \n",
            "2.9375                  244.0       850.0       237.0             81700.0  \n",
            "...                       ...         ...         ...                 ...  \n",
            "1.1790                  642.0      1258.0       607.0            225000.0  \n",
            "3.3906                 1082.0      3496.0      1036.0            237200.0  \n",
            "2.2895                  201.0       693.0       220.0             62000.0  \n",
            "3.2708                   14.0        46.0        14.0            162500.0  \n",
            "8.5608                  263.0       753.0       260.0            500001.0  \n",
            "\n",
            "[3000 rows x 8 columns]\n"
          ]
        }
      ]
    },
    {
      "cell_type": "code",
      "source": [
        "\n",
        "type(data)"
      ],
      "metadata": {
        "colab": {
          "base_uri": "https://localhost:8080/"
        },
        "id": "A1lCcy63q2zI",
        "outputId": "f2e93d36-8820-4ee8-e341-39417d75d5d7"
      },
      "execution_count": 51,
      "outputs": [
        {
          "output_type": "execute_result",
          "data": {
            "text/plain": [
              "pandas.core.frame.DataFrame"
            ]
          },
          "metadata": {},
          "execution_count": 51
        }
      ]
    },
    {
      "cell_type": "code",
      "source": [
        "data.info()"
      ],
      "metadata": {
        "colab": {
          "base_uri": "https://localhost:8080/"
        },
        "id": "vZv_g3Bgq4R_",
        "outputId": "af172b82-f27f-44cf-c73e-492dbca3b052"
      },
      "execution_count": 52,
      "outputs": [
        {
          "output_type": "stream",
          "name": "stdout",
          "text": [
            "<class 'pandas.core.frame.DataFrame'>\n",
            "Float64Index: 3000 entries, 6.6085 to 8.5608\n",
            "Data columns (total 8 columns):\n",
            " #   Column              Non-Null Count  Dtype  \n",
            "---  ------              --------------  -----  \n",
            " 0   longitude           3000 non-null   float64\n",
            " 1   latitude            3000 non-null   float64\n",
            " 2   housing_median_age  3000 non-null   float64\n",
            " 3   total_rooms         3000 non-null   float64\n",
            " 4   total_bedrooms      3000 non-null   float64\n",
            " 5   population          3000 non-null   float64\n",
            " 6   households          3000 non-null   float64\n",
            " 7   median_house_value  3000 non-null   float64\n",
            "dtypes: float64(8)\n",
            "memory usage: 210.9 KB\n"
          ]
        }
      ]
    },
    {
      "cell_type": "code",
      "source": [
        "print(data.columns)\n"
      ],
      "metadata": {
        "colab": {
          "base_uri": "https://localhost:8080/"
        },
        "id": "xpavbm8Xq6vr",
        "outputId": "6be4fa7c-0f86-4830-cc31-6ff3bb1a2ea1"
      },
      "execution_count": 53,
      "outputs": [
        {
          "output_type": "stream",
          "name": "stdout",
          "text": [
            "Index(['longitude', 'latitude', 'housing_median_age', 'total_rooms',\n",
            "       'total_bedrooms', 'population', 'households', 'median_house_value'],\n",
            "      dtype='object')\n"
          ]
        }
      ]
    },
    {
      "cell_type": "code",
      "source": [
        "print(data.T)\n"
      ],
      "metadata": {
        "colab": {
          "base_uri": "https://localhost:8080/"
        },
        "id": "TBFEIfIfq8Dv",
        "outputId": "bea5d715-8a20-494a-ccf7-cf388c71f358"
      },
      "execution_count": 54,
      "outputs": [
        {
          "output_type": "stream",
          "name": "stdout",
          "text": [
            "median_income          6.6085     3.5990     5.7934     6.1359    2.9375  \\\n",
            "longitude             -122.05    -118.30    -117.81    -118.36   -119.67   \n",
            "latitude                37.37      34.26      33.78      33.82     36.33   \n",
            "housing_median_age      27.00      43.00      27.00      28.00     19.00   \n",
            "total_rooms           3885.00    1510.00    3589.00      67.00   1241.00   \n",
            "total_bedrooms         661.00     310.00     507.00      15.00    244.00   \n",
            "population            1537.00     809.00    1484.00      49.00    850.00   \n",
            "households             606.00     277.00     495.00      11.00    237.00   \n",
            "median_house_value  344700.00  176500.00  270500.00  330000.00  81700.00   \n",
            "\n",
            "median_income         1.6635    1.6641     3.2250     3.6696     2.3333  ...  \\\n",
            "longitude            -119.56   -121.43    -120.65    -122.84    -118.02  ...   \n",
            "latitude               36.51     38.63      35.48      38.40      34.08  ...   \n",
            "housing_median_age     37.00     43.00      19.00      15.00      31.00  ...   \n",
            "total_rooms          1018.00   1009.00    2310.00    3080.00    2402.00  ...   \n",
            "total_bedrooms        213.00    225.00     471.00     617.00     632.00  ...   \n",
            "population            663.00    604.00    1341.00    1446.00    2830.00  ...   \n",
            "households            204.00    218.00     441.00     599.00     603.00  ...   \n",
            "median_house_value  67000.00  67000.00  166900.00  194400.00  164200.00  ...   \n",
            "\n",
            "median_income          2.6923     7.1997     6.2263     5.1048     5.5867  \\\n",
            "longitude             -118.23    -117.17    -122.33    -117.91    -117.93   \n",
            "latitude                34.09      34.28      37.39      33.60      33.86   \n",
            "housing_median_age      49.00      13.00      52.00      37.00      35.00   \n",
            "total_rooms           1638.00    4867.00     573.00    2088.00     931.00   \n",
            "total_bedrooms         456.00     718.00     102.00     510.00     181.00   \n",
            "population            1500.00     780.00     232.00     673.00     516.00   \n",
            "households             430.00     250.00      92.00     390.00     174.00   \n",
            "median_house_value  150000.00  253800.00  500001.00  500001.00  182500.00   \n",
            "\n",
            "median_income          1.1790     3.3906   2.2895     3.2708     8.5608  \n",
            "longitude             -119.86    -118.14   -119.7    -117.12    -119.63  \n",
            "latitude                34.42      34.06     36.3      34.10      34.42  \n",
            "housing_median_age      23.00      27.00     10.0      40.00      42.00  \n",
            "total_rooms           1450.00    5257.00    956.0      96.00    1765.00  \n",
            "total_bedrooms         642.00    1082.00    201.0      14.00     263.00  \n",
            "population            1258.00    3496.00    693.0      46.00     753.00  \n",
            "households             607.00    1036.00    220.0      14.00     260.00  \n",
            "median_house_value  225000.00  237200.00  62000.0  162500.00  500001.00  \n",
            "\n",
            "[8 rows x 3000 columns]\n"
          ]
        }
      ]
    },
    {
      "cell_type": "code",
      "source": [
        "print(data.describe())\n"
      ],
      "metadata": {
        "colab": {
          "base_uri": "https://localhost:8080/"
        },
        "id": "QitlLAvTq9m5",
        "outputId": "3ab1e597-e3ea-4dc8-ebbc-d83de419d79f"
      },
      "execution_count": 55,
      "outputs": [
        {
          "output_type": "stream",
          "name": "stdout",
          "text": [
            "         longitude    latitude  housing_median_age   total_rooms  \\\n",
            "count  3000.000000  3000.00000         3000.000000   3000.000000   \n",
            "mean   -119.589200    35.63539           28.845333   2599.578667   \n",
            "std       1.994936     2.12967           12.555396   2155.593332   \n",
            "min    -124.180000    32.56000            1.000000      6.000000   \n",
            "25%    -121.810000    33.93000           18.000000   1401.000000   \n",
            "50%    -118.485000    34.27000           29.000000   2106.000000   \n",
            "75%    -118.020000    37.69000           37.000000   3129.000000   \n",
            "max    -114.490000    41.92000           52.000000  30450.000000   \n",
            "\n",
            "       total_bedrooms    population  households  median_house_value  \n",
            "count     3000.000000   3000.000000  3000.00000          3000.00000  \n",
            "mean       529.950667   1402.798667   489.91200        205846.27500  \n",
            "std        415.654368   1030.543012   365.42271        113119.68747  \n",
            "min          2.000000      5.000000     2.00000         22500.00000  \n",
            "25%        291.000000    780.000000   273.00000        121200.00000  \n",
            "50%        437.000000   1155.000000   409.50000        177650.00000  \n",
            "75%        636.000000   1742.750000   597.25000        263975.00000  \n",
            "max       5419.000000  11935.000000  4930.00000        500001.00000  \n"
          ]
        }
      ]
    },
    {
      "cell_type": "code",
      "source": [
        "print(data.T.describe())\n"
      ],
      "metadata": {
        "colab": {
          "base_uri": "https://localhost:8080/"
        },
        "id": "DzvSonAuq_EC",
        "outputId": "9ba8acab-b9ee-4632-8644-985565b10157"
      },
      "execution_count": 56,
      "outputs": [
        {
          "output_type": "stream",
          "name": "stdout",
          "text": [
            "median_income         6.6085         3.5990         5.7934         6.1359  \\\n",
            "count               8.000000       8.000000       8.000000       8.000000   \n",
            "mean            43916.415000   22420.620000   34564.746250   41260.682500   \n",
            "std            121541.970835   62259.710451   95340.051195  116668.316062   \n",
            "min              -122.050000    -118.300000    -117.810000    -118.360000   \n",
            "25%                34.777500      40.815000      32.085000      14.000000   \n",
            "50%               633.500000     293.500000     501.000000      30.910000   \n",
            "75%              2124.000000     984.250000    2010.250000      53.500000   \n",
            "max            344700.000000  176500.000000  270500.000000  330000.000000   \n",
            "\n",
            "median_income        2.9375        1.6635        1.6641         3.2250  \\\n",
            "count              8.000000      8.000000      8.000000       8.000000   \n",
            "mean           10525.957500   8631.493750   8627.025000   21424.603750   \n",
            "std            28762.371344  23587.400994  23589.024838   58786.621064   \n",
            "min             -119.670000   -119.560000   -121.430000    -120.650000   \n",
            "25%               31.997500     36.877500     41.907500      31.360000   \n",
            "50%              240.500000    208.500000    221.500000     456.000000   \n",
            "75%              947.750000    751.750000    705.250000    1583.250000   \n",
            "max            81700.000000  67000.000000  67000.000000  166900.000000   \n",
            "\n",
            "median_income         3.6696         2.3333  ...       2.6923         7.1997  \\\n",
            "count               8.000000       8.000000  ...       8.0000       8.000000   \n",
            "mean            25009.070000   21326.757500  ...   19248.6075   32543.138750   \n",
            "std             68452.345193   57740.247048  ...   52835.6918   89416.267414   \n",
            "min              -122.840000    -118.020000  ...    -118.2300    -117.170000   \n",
            "25%                32.550000      33.310000  ...      45.2725      28.960000   \n",
            "50%               608.000000     617.500000  ...     443.0000     484.000000   \n",
            "75%              1854.500000    2509.000000  ...    1534.5000    1801.750000   \n",
            "max            194400.000000  164200.000000  ...  150000.0000  253800.000000   \n",
            "\n",
            "median_income         6.2263         5.1048         5.5867         1.1790  \\\n",
            "count               8.000000       8.000000       8.000000       8.000000   \n",
            "mean            62620.882500   62951.836250   23031.616250   28611.820000   \n",
            "std            176728.371353  176595.895348   64435.814749   79354.891655   \n",
            "min              -122.330000    -117.910000    -117.930000    -119.860000   \n",
            "25%                48.347500      36.150000      34.715000      31.565000   \n",
            "50%                97.000000     450.000000     177.500000     624.500000   \n",
            "75%               317.250000    1026.750000     619.750000    1306.000000   \n",
            "max            500001.000000  500001.000000  182500.000000  225000.000000   \n",
            "\n",
            "median_income         3.3906        2.2895         3.2708         8.5608  \n",
            "count               8.000000      8.000000       8.000000       8.000000  \n",
            "mean            31001.740000   7999.575000   20328.372500   62874.848750  \n",
            "std             83338.462109  21822.508466   57446.044718  176626.669812  \n",
            "min              -118.140000   -119.700000    -117.120000    -119.630000  \n",
            "25%                32.295000     29.725000      14.000000      40.105000  \n",
            "50%              1059.000000    210.500000      37.050000     261.500000  \n",
            "75%              3936.250000    758.750000      58.500000    1006.000000  \n",
            "max            237200.000000  62000.000000  162500.000000  500001.000000  \n",
            "\n",
            "[8 rows x 3000 columns]\n"
          ]
        }
      ]
    },
    {
      "cell_type": "code",
      "source": [
        "data.T.to_csv('sample_data/california_housing_test_TRANSPOSED.csv')\n"
      ],
      "metadata": {
        "id": "POwgn_bcrAxF"
      },
      "execution_count": 57,
      "outputs": []
    },
    {
      "cell_type": "markdown",
      "source": [
        "# plotting \n"
      ],
      "metadata": {
        "id": "AvX7U2AKkNEB"
      }
    },
    {
      "cell_type": "code",
      "source": [
        "%matplotlib inline\n",
        "import matplotlib.pyplot as plt"
      ],
      "metadata": {
        "id": "0iMX-W3sgD7m"
      },
      "execution_count": 58,
      "outputs": []
    },
    {
      "cell_type": "code",
      "source": [
        "time = [0,1,2,3,4,5]\n",
        "response = [20,25,40,80,65,47]"
      ],
      "metadata": {
        "id": "B_fJ3963gMjg"
      },
      "execution_count": 59,
      "outputs": []
    },
    {
      "cell_type": "code",
      "source": [
        "print(time, response)"
      ],
      "metadata": {
        "colab": {
          "base_uri": "https://localhost:8080/"
        },
        "id": "zHRysCFpgPfz",
        "outputId": "61cc895e-e955-4097-9de6-1aefa200d239"
      },
      "execution_count": 60,
      "outputs": [
        {
          "output_type": "stream",
          "name": "stdout",
          "text": [
            "[0, 1, 2, 3, 4, 5] [20, 25, 40, 80, 65, 47]\n"
          ]
        }
      ]
    },
    {
      "cell_type": "code",
      "source": [
        "plt.plot(time,response)\n",
        "plt.xlabel('Time (hours)')\n",
        "plt.ylabel('Response (cm)')"
      ],
      "metadata": {
        "colab": {
          "base_uri": "https://localhost:8080/",
          "height": 300
        },
        "id": "il1XfUKygSGA",
        "outputId": "270739c2-b180-4520-b2b0-a4e54003e0c3"
      },
      "execution_count": 61,
      "outputs": [
        {
          "output_type": "execute_result",
          "data": {
            "text/plain": [
              "Text(0, 0.5, 'Response (cm)')"
            ]
          },
          "metadata": {},
          "execution_count": 61
        },
        {
          "output_type": "display_data",
          "data": {
            "text/plain": [
              "<Figure size 432x288 with 1 Axes>"
            ],
            "image/png": "[encoded data removed]"
          },
          "metadata": {
            "needs_background": "light"
          }
        }
      ]
    },
    {
      "cell_type": "code",
      "source": [
        "!curl -L -o PracCompPyData.zip http://bit.ly/PracCompPyData"
      ],
      "metadata": {
        "colab": {
          "base_uri": "https://localhost:8080/"
        },
        "id": "C1doXbZkgUj1",
        "outputId": "b82c5da3-85e0-441f-bfd2-7c0cfe0c5a8f"
      },
      "execution_count": 62,
      "outputs": [
        {
          "output_type": "stream",
          "name": "stdout",
          "text": [
            "  % Total    % Received % Xferd  Average Speed   Time    Time     Time  Current\n",
            "                                 Dload  Upload   Total   Spent    Left  Speed\n",
            "100   137  100   137    0     0   1691      0 --:--:-- --:--:-- --:--:--  1691\n",
            "100   116    0   116    0     0    310      0 --:--:-- --:--:-- --:--:--   489\n",
            "100   340  100   340    0     0    440      0 --:--:-- --:--:-- --:--:--   440\n",
            "100   534    0   534    0     0    567      0 --:--:-- --:--:-- --:--:--   567\n",
            "100 38179  100 38179    0     0  34395      0  0:00:01  0:00:01 --:--:-- 34395\n"
          ]
        }
      ]
    },
    {
      "cell_type": "code",
      "source": [
        "!unzip PracCompPyData.zip"
      ],
      "metadata": {
        "colab": {
          "base_uri": "https://localhost:8080/"
        },
        "id": "fnPpjHPzgaei",
        "outputId": "d213dbf3-2886-4614-e5ee-c062dcb371da"
      },
      "execution_count": 63,
      "outputs": [
        {
          "metadata": {
            "tags": null
          },
          "name": "stdout",
          "output_type": "stream",
          "text": [
            "Archive:  PracCompPyData.zip\n",
            "replace data/gapminder_all.csv? [y]es, [n]o, [A]ll, [N]one, [r]ename: "
          ]
        }
      ]
    },
    {
      "cell_type": "code",
      "source": [
        "\n",
        "data = pd.read_csv('data/gapminder_gdp_oceania.csv', index_col='country')"
      ],
      "metadata": {
        "id": "zIlHQlTGghm0"
      },
      "execution_count": 64,
      "outputs": []
    },
    {
      "cell_type": "code",
      "source": [
        "print(data)"
      ],
      "metadata": {
        "colab": {
          "base_uri": "https://localhost:8080/"
        },
        "id": "npIoUhVkgj34",
        "outputId": "2a838560-7635-4caf-ea3f-e4ebb744af17"
      },
      "execution_count": 65,
      "outputs": [
        {
          "metadata": {
            "tags": null
          },
          "name": "stdout",
          "output_type": "stream",
          "text": [
            "             gdpPercap_1952  gdpPercap_1957  gdpPercap_1962  gdpPercap_1967  \\\n",
            "country                                                                       \n",
            "Australia       10039.59564     10949.64959     12217.22686     14526.12465   \n",
            "New Zealand     10556.57566     12247.39532     13175.67800     14463.91893   \n",
            "\n",
            "             gdpPercap_1972  gdpPercap_1977  gdpPercap_1982  gdpPercap_1987  \\\n",
            "country                                                                       \n",
            "Australia       16788.62948     18334.19751     19477.00928     21888.88903   \n",
            "New Zealand     16046.03728     16233.71770     17632.41040     19007.19129   \n",
            "\n",
            "             gdpPercap_1992  gdpPercap_1997  gdpPercap_2002  gdpPercap_2007  \n",
            "country                                                                      \n",
            "Australia       23424.76683     26997.93657     30687.75473     34435.36744  \n",
            "New Zealand     18363.32494     21050.41377     23189.80135     25185.00911  \n"
          ]
        }
      ]
    },
    {
      "cell_type": "code",
      "source": [
        "years = data.columns.str.strip('gdpPercap_')\n",
        "\n",
        "type(years)"
      ],
      "metadata": {
        "colab": {
          "base_uri": "https://localhost:8080/"
        },
        "id": "dSie3FEBgoJt",
        "outputId": "02001422-8fa1-4f3e-e7a2-2111e178f3f9"
      },
      "execution_count": 66,
      "outputs": [
        {
          "output_type": "execute_result",
          "data": {
            "text/plain": [
              "pandas.core.indexes.base.Index"
            ]
          },
          "metadata": {},
          "execution_count": 66
        }
      ]
    },
    {
      "cell_type": "code",
      "source": [
        "type(years)\n"
      ],
      "metadata": {
        "colab": {
          "base_uri": "https://localhost:8080/"
        },
        "id": "gBRpKClTrH5S",
        "outputId": "625730f4-f40b-44bb-919c-5dd399ff4e66"
      },
      "execution_count": 67,
      "outputs": [
        {
          "output_type": "execute_result",
          "data": {
            "text/plain": [
              "pandas.core.indexes.base.Index"
            ]
          },
          "metadata": {},
          "execution_count": 67
        }
      ]
    },
    {
      "cell_type": "code",
      "source": [
        "data.info()\n"
      ],
      "metadata": {
        "colab": {
          "base_uri": "https://localhost:8080/"
        },
        "id": "1j0MbzbDrKEZ",
        "outputId": "5be0f830-e18e-47a2-8819-ab21028148b2"
      },
      "execution_count": 68,
      "outputs": [
        {
          "output_type": "stream",
          "name": "stdout",
          "text": [
            "<class 'pandas.core.frame.DataFrame'>\n",
            "Index: 2 entries, Australia to New Zealand\n",
            "Data columns (total 12 columns):\n",
            " #   Column          Non-Null Count  Dtype  \n",
            "---  ------          --------------  -----  \n",
            " 0   gdpPercap_1952  2 non-null      float64\n",
            " 1   gdpPercap_1957  2 non-null      float64\n",
            " 2   gdpPercap_1962  2 non-null      float64\n",
            " 3   gdpPercap_1967  2 non-null      float64\n",
            " 4   gdpPercap_1972  2 non-null      float64\n",
            " 5   gdpPercap_1977  2 non-null      float64\n",
            " 6   gdpPercap_1982  2 non-null      float64\n",
            " 7   gdpPercap_1987  2 non-null      float64\n",
            " 8   gdpPercap_1992  2 non-null      float64\n",
            " 9   gdpPercap_1997  2 non-null      float64\n",
            " 10  gdpPercap_2002  2 non-null      float64\n",
            " 11  gdpPercap_2007  2 non-null      float64\n",
            "dtypes: float64(12)\n",
            "memory usage: 208.0+ bytes\n"
          ]
        }
      ]
    },
    {
      "cell_type": "code",
      "source": [
        "print(data.T)\n"
      ],
      "metadata": {
        "colab": {
          "base_uri": "https://localhost:8080/"
        },
        "id": "S4yfP94vrLfg",
        "outputId": "04516a71-f10e-4d7a-e1a8-bbc8d0f95dea"
      },
      "execution_count": 69,
      "outputs": [
        {
          "metadata": {
            "tags": null
          },
          "name": "stdout",
          "output_type": "stream",
          "text": [
            "country           Australia  New Zealand\n",
            "gdpPercap_1952  10039.59564  10556.57566\n",
            "gdpPercap_1957  10949.64959  12247.39532\n",
            "gdpPercap_1962  12217.22686  13175.67800\n",
            "gdpPercap_1967  14526.12465  14463.91893\n",
            "gdpPercap_1972  16788.62948  16046.03728\n",
            "gdpPercap_1977  18334.19751  16233.71770\n",
            "gdpPercap_1982  19477.00928  17632.41040\n",
            "gdpPercap_1987  21888.88903  19007.19129\n",
            "gdpPercap_1992  23424.76683  18363.32494\n",
            "gdpPercap_1997  26997.93657  21050.41377\n",
            "gdpPercap_2002  30687.75473  23189.80135\n",
            "gdpPercap_2007  34435.36744  25185.00911\n"
          ]
        }
      ]
    },
    {
      "cell_type": "code",
      "source": [
        "print(data.describe())\n"
      ],
      "metadata": {
        "colab": {
          "base_uri": "https://localhost:8080/"
        },
        "id": "1vSrxxKKrNY_",
        "outputId": "0dc12223-de0b-4f00-e8d9-9d7a516ebf7b"
      },
      "execution_count": 70,
      "outputs": [
        {
          "output_type": "stream",
          "name": "stdout",
          "text": [
            "       gdpPercap_1952  gdpPercap_1957  gdpPercap_1962  gdpPercap_1967  \\\n",
            "count        2.000000        2.000000        2.000000        2.000000   \n",
            "mean     10298.085650    11598.522455    12696.452430    14495.021790   \n",
            "std        365.560078      917.644806      677.727301       43.986086   \n",
            "min      10039.595640    10949.649590    12217.226860    14463.918930   \n",
            "25%      10168.840645    11274.086022    12456.839645    14479.470360   \n",
            "50%      10298.085650    11598.522455    12696.452430    14495.021790   \n",
            "75%      10427.330655    11922.958888    12936.065215    14510.573220   \n",
            "max      10556.575660    12247.395320    13175.678000    14526.124650   \n",
            "\n",
            "       gdpPercap_1972  gdpPercap_1977  gdpPercap_1982  gdpPercap_1987  \\\n",
            "count         2.00000        2.000000        2.000000        2.000000   \n",
            "mean      16417.33338    17283.957605    18554.709840    20448.040160   \n",
            "std         525.09198     1485.263517     1304.328377     2037.668013   \n",
            "min       16046.03728    16233.717700    17632.410400    19007.191290   \n",
            "25%       16231.68533    16758.837652    18093.560120    19727.615725   \n",
            "50%       16417.33338    17283.957605    18554.709840    20448.040160   \n",
            "75%       16602.98143    17809.077558    19015.859560    21168.464595   \n",
            "max       16788.62948    18334.197510    19477.009280    21888.889030   \n",
            "\n",
            "       gdpPercap_1992  gdpPercap_1997  gdpPercap_2002  gdpPercap_2007  \n",
            "count        2.000000        2.000000        2.000000        2.000000  \n",
            "mean     20894.045885    24024.175170    26938.778040    29810.188275  \n",
            "std       3578.979883     4205.533703     5301.853680     6540.991104  \n",
            "min      18363.324940    21050.413770    23189.801350    25185.009110  \n",
            "25%      19628.685412    22537.294470    25064.289695    27497.598692  \n",
            "50%      20894.045885    24024.175170    26938.778040    29810.188275  \n",
            "75%      22159.406358    25511.055870    28813.266385    32122.777858  \n",
            "max      23424.766830    26997.936570    30687.754730    34435.367440  \n"
          ]
        }
      ]
    },
    {
      "cell_type": "code",
      "source": [
        "data.columns = years.astype(int)\n"
      ],
      "metadata": {
        "id": "wPby0HbNrOZM"
      },
      "execution_count": 71,
      "outputs": []
    },
    {
      "cell_type": "code",
      "source": [
        "print(data.columns)\n"
      ],
      "metadata": {
        "colab": {
          "base_uri": "https://localhost:8080/"
        },
        "id": "tZ3tKN6wrPya",
        "outputId": "a6695b88-a767-4478-8c86-a596e797405c"
      },
      "execution_count": 72,
      "outputs": [
        {
          "metadata": {
            "tags": null
          },
          "name": "stdout",
          "output_type": "stream",
          "text": [
            "Int64Index([1952, 1957, 1962, 1967, 1972, 1977, 1982, 1987, 1992, 1997, 2002,\n",
            "            2007],\n",
            "           dtype='int64')\n"
          ]
        }
      ]
    },
    {
      "cell_type": "code",
      "source": [
        "data.plot()\n"
      ],
      "metadata": {
        "colab": {
          "base_uri": "https://localhost:8080/",
          "height": 300
        },
        "id": "nShpliWorQzd",
        "outputId": "5b87366b-a3d6-464b-c0d1-0a8d48354b45"
      },
      "execution_count": 73,
      "outputs": [
        {
          "output_type": "execute_result",
          "data": {
            "text/plain": [
              "<matplotlib.axes._subplots.AxesSubplot at 0x7f5616435370>"
            ]
          },
          "metadata": {},
          "execution_count": 73
        },
        {
          "output_type": "display_data",
          "data": {
            "text/plain": [
              "<Figure size 432x288 with 1 Axes>"
            ],
            "image/png": "[encoded data removed]"
          },
          "metadata": {
            "needs_background": "light"
          }
        }
      ]
    },
    {
      "cell_type": "code",
      "source": [
        "data.loc['Australia'].plot()\n"
      ],
      "metadata": {
        "colab": {
          "base_uri": "https://localhost:8080/",
          "height": 283
        },
        "id": "UCcgtw4qrTLo",
        "outputId": "4b5b4528-2cf3-40cd-ea39-ef491616982d"
      },
      "execution_count": 74,
      "outputs": [
        {
          "output_type": "execute_result",
          "data": {
            "text/plain": [
              "<matplotlib.axes._subplots.AxesSubplot at 0x7f5615fca130>"
            ]
          },
          "metadata": {},
          "execution_count": 74
        },
        {
          "output_type": "display_data",
          "data": {
            "text/plain": [
              "<Figure size 432x288 with 1 Axes>"
            ],
            "image/png": "[encoded data removed]"
          },
          "metadata": {
            "needs_background": "light"
          }
        }
      ]
    },
    {
      "cell_type": "code",
      "source": [
        "data.T.plot()\n",
        "plt.ylabel('GDP/capita')\n",
        "plt.xlabel('Year')\n"
      ],
      "metadata": {
        "colab": {
          "base_uri": "https://localhost:8080/",
          "height": 300
        },
        "id": "8YDbnUE6rV8w",
        "outputId": "4c2487a0-56f4-47d0-abf2-1b9c36b38eed"
      },
      "execution_count": 75,
      "outputs": [
        {
          "output_type": "execute_result",
          "data": {
            "text/plain": [
              "Text(0.5, 0, 'Year')"
            ]
          },
          "metadata": {},
          "execution_count": 75
        },
        {
          "output_type": "display_data",
          "data": {
            "text/plain": [
              "<Figure size 432x288 with 1 Axes>"
            ],
            "image/png": "[encoded data removed]"
          },
          "metadata": {
            "needs_background": "light"
          }
        }
      ]
    },
    {
      "cell_type": "code",
      "source": [
        "plt.style.use('ggplot')\n",
        "data.T.plot()\n",
        "plt.ylabel('GDP/capita')\n",
        "plt.xlabel('Year')"
      ],
      "metadata": {
        "colab": {
          "base_uri": "https://localhost:8080/",
          "height": 300
        },
        "id": "RuTtyOFurYho",
        "outputId": "8db29ade-d089-4f89-8e6c-1b5329dc1a45"
      },
      "execution_count": 76,
      "outputs": [
        {
          "output_type": "execute_result",
          "data": {
            "text/plain": [
              "Text(0.5, 0, 'Year')"
            ]
          },
          "metadata": {},
          "execution_count": 76
        },
        {
          "output_type": "display_data",
          "data": {
            "text/plain": [
              "<Figure size 432x288 with 1 Axes>"
            ],
            "image/png": "[encoded data removed]"
          },
          "metadata": {}
        }
      ]
    },
    {
      "cell_type": "code",
      "source": [
        "plt.style.use('ggplot')\n",
        "data.T.plot(kind='bar')\n",
        "plt.ylabel('GDP/capita')\n",
        "plt.xlabel('Year')\n"
      ],
      "metadata": {
        "colab": {
          "base_uri": "https://localhost:8080/",
          "height": 316
        },
        "id": "WDDNQzRtrfsJ",
        "outputId": "739a2cdd-7534-4fd2-bf64-95a67f3331ad"
      },
      "execution_count": 77,
      "outputs": [
        {
          "output_type": "execute_result",
          "data": {
            "text/plain": [
              "Text(0.5, 0, 'Year')"
            ]
          },
          "metadata": {},
          "execution_count": 77
        },
        {
          "output_type": "display_data",
          "data": {
            "text/plain": [
              "<Figure size 432x288 with 1 Axes>"
            ],
            "image/png": "[encoded data removed]"
          },
          "metadata": {}
        }
      ]
    },
    {
      "cell_type": "code",
      "source": [
        "plt.plot(time,response, 'g--')"
      ],
      "metadata": {
        "colab": {
          "base_uri": "https://localhost:8080/",
          "height": 283
        },
        "id": "WsK8OuB9ri-z",
        "outputId": "d7aa3234-f86b-4ced-dee4-91fbf5f9fb28"
      },
      "execution_count": 78,
      "outputs": [
        {
          "output_type": "execute_result",
          "data": {
            "text/plain": [
              "[<matplotlib.lines.Line2D at 0x7f5615953130>]"
            ]
          },
          "metadata": {},
          "execution_count": 78
        },
        {
          "output_type": "display_data",
          "data": {
            "text/plain": [
              "<Figure size 432x288 with 1 Axes>"
            ],
            "image/png": "[encoded data removed]"
          },
          "metadata": {}
        }
      ]
    },
    {
      "cell_type": "code",
      "source": [
        "plt.plot(time,response, 'bo')\n"
      ],
      "metadata": {
        "colab": {
          "base_uri": "https://localhost:8080/",
          "height": 283
        },
        "id": "_fP2IGHKrlyF",
        "outputId": "528dbdcd-929b-4efc-b436-a6e36a3caef5"
      },
      "execution_count": 79,
      "outputs": [
        {
          "output_type": "execute_result",
          "data": {
            "text/plain": [
              "[<matplotlib.lines.Line2D at 0x7f5615b3a940>]"
            ]
          },
          "metadata": {},
          "execution_count": 79
        },
        {
          "output_type": "display_data",
          "data": {
            "text/plain": [
              "<Figure size 432x288 with 1 Axes>"
            ],
            "image/png": "[encoded data removed]"
          },
          "metadata": {}
        }
      ]
    },
    {
      "cell_type": "code",
      "source": [
        "gdp_australia = data.loc['Australia']\n",
        "gdp_nz =data.loc['New Zealand']\n",
        "\n",
        "plt.plot(years, gdp_australia, 'g--', label='Australia')\n",
        "plt.plot(years, gdp_nz, 'o-', label='New Zealand')\n",
        "\n",
        "plt.xlabel('Year')\n",
        "plt.ylabel('GDP/capita')\n",
        "plt.legend(loc='lower right')"
      ],
      "metadata": {
        "colab": {
          "base_uri": "https://localhost:8080/",
          "height": 300
        },
        "id": "y-Jf1nmirnS0",
        "outputId": "f1b81de0-cd3e-499c-fb27-cb0da32528f8"
      },
      "execution_count": 80,
      "outputs": [
        {
          "output_type": "execute_result",
          "data": {
            "text/plain": [
              "<matplotlib.legend.Legend at 0x7f5615dfc460>"
            ]
          },
          "metadata": {},
          "execution_count": 80
        },
        {
          "output_type": "display_data",
          "data": {
            "text/plain": [
              "<Figure size 432x288 with 1 Axes>"
            ],
            "image/png": "[encoded data removed]"
          },
          "metadata": {}
        }
      ]
    },
    {
      "cell_type": "code",
      "source": [
        "plt.scatter(gdp_australia,gdp_nz)\n"
      ],
      "metadata": {
        "colab": {
          "base_uri": "https://localhost:8080/",
          "height": 283
        },
        "id": "y-9iN8kSro2J",
        "outputId": "35fcc27f-43cf-4268-b376-eed9298572a0"
      },
      "execution_count": 81,
      "outputs": [
        {
          "output_type": "execute_result",
          "data": {
            "text/plain": [
              "<matplotlib.collections.PathCollection at 0x7f5615fcbd00>"
            ]
          },
          "metadata": {},
          "execution_count": 81
        },
        {
          "output_type": "display_data",
          "data": {
            "text/plain": [
              "<Figure size 432x288 with 1 Axes>"
            ],
            "image/png": "[encoded data removed]"
          },
          "metadata": {}
        }
      ]
    },
    {
      "cell_type": "code",
      "source": [
        "plt.style.use('default')\n",
        "\n",
        "gdp_australia = data.loc['Australia']\n",
        "gdp_nz =data.loc['New Zealand']\n",
        "\n",
        "plt.plot(years, gdp_australia, '--', label='Australia')\n",
        "plt.plot(years, gdp_nz, 'o-', label='New Zealand')\n",
        "\n",
        "plt.xlabel('Year')\n",
        "plt.ylabel('GDP/capita')\n",
        "plt.legend(loc='lower right')"
      ],
      "metadata": {
        "colab": {
          "base_uri": "https://localhost:8080/",
          "height": 467
        },
        "id": "CWaO7mGCrqCh",
        "outputId": "e5812733-40d0-4806-c9ca-321ce681be2b"
      },
      "execution_count": 82,
      "outputs": [
        {
          "data": {
            "text/plain": [
              "<matplotlib.legend.Legend at 0x7f5616088d90>"
            ]
          },
          "execution_count": 82,
          "metadata": {},
          "output_type": "execute_result"
        },
        {
          "output_type": "display_data",
          "data": {
            "text/plain": [
              "<Figure size 640x480 with 1 Axes>"
            ],
            "image/png": "[encoded data removed]"
          },
          "metadata": {}
        }
      ]
    },
    {
      "cell_type": "code",
      "source": [
        "print(plt.style.available)\n"
      ],
      "metadata": {
        "colab": {
          "base_uri": "https://localhost:8080/"
        },
        "id": "du9SlksKrryL",
        "outputId": "f989dcd6-f319-44c6-d5f4-fb315ca6f080"
      },
      "execution_count": 83,
      "outputs": [
        {
          "output_type": "stream",
          "name": "stdout",
          "text": [
            "['Solarize_Light2', '_classic_test_patch', 'bmh', 'classic', 'dark_background', 'fast', 'fivethirtyeight', 'ggplot', 'grayscale', 'seaborn', 'seaborn-bright', 'seaborn-colorblind', 'seaborn-dark', 'seaborn-dark-palette', 'seaborn-darkgrid', 'seaborn-deep', 'seaborn-muted', 'seaborn-notebook', 'seaborn-paper', 'seaborn-pastel', 'seaborn-poster', 'seaborn-talk', 'seaborn-ticks', 'seaborn-white', 'seaborn-whitegrid', 'tableau-colorblind10']\n"
          ]
        }
      ]
    },
    {
      "cell_type": "code",
      "source": [
        "%matplotlib inline\n",
        "import matplotlib.pyplot as plt\n",
        "\n",
        "import numpy as np\n",
        "randx = np.random.randint(0,1000, size=100)\n",
        "print(randx)\n",
        "     "
      ],
      "metadata": {
        "colab": {
          "base_uri": "https://localhost:8080/"
        },
        "id": "hL46haB4rs4_",
        "outputId": "b9f917d8-e702-4f47-d53f-5dbdeaa4656e"
      },
      "execution_count": 84,
      "outputs": [
        {
          "output_type": "stream",
          "name": "stdout",
          "text": [
            "[916 132 397 650 294 299 412 548 292 785 284 401 757 652 777 173 159  64\n",
            " 745 131 232 857 672 304 290 255 864 777 867 123 301 106 135 726 610  71\n",
            "  65 298 256 614 150 224 161 509 604 317 987 357 892  26 335 250  49 544\n",
            " 435 881 765 524 547 153 472 834 555 917 267  13 967 765 355 173 480 404\n",
            " 415 861 329 322 626 466 817 581 156  52 235 750 898 814 673 974 205 780\n",
            " 303 625 389 944 970 889 129 685  53 144]\n"
          ]
        }
      ]
    },
    {
      "cell_type": "code",
      "source": [
        "randy = np.random.randint(0,1000,size=100)"
      ],
      "metadata": {
        "id": "nVy1uLMirviB"
      },
      "execution_count": 85,
      "outputs": []
    },
    {
      "cell_type": "code",
      "source": [
        "plt.style.use(\"Solarize_Light2\")\n",
        "plt.scatter(randx,randy)"
      ],
      "metadata": {
        "colab": {
          "base_uri": "https://localhost:8080/",
          "height": 283
        },
        "id": "cfeFtjmXrw8o",
        "outputId": "e41a78db-1ab3-465f-ef93-dd3652c27a90"
      },
      "execution_count": 86,
      "outputs": [
        {
          "output_type": "execute_result",
          "data": {
            "text/plain": [
              "<matplotlib.collections.PathCollection at 0x7f5615fc46a0>"
            ]
          },
          "metadata": {},
          "execution_count": 86
        },
        {
          "output_type": "display_data",
          "data": {
            "text/plain": [
              "<Figure size 432x288 with 1 Axes>"
            ],
            "image/png": "[encoded data removed]"
          },
          "metadata": {}
        }
      ]
    },
    {
      "cell_type": "code",
      "source": [
        "np.corrcoef(randx,randy)\n"
      ],
      "metadata": {
        "colab": {
          "base_uri": "https://localhost:8080/"
        },
        "id": "KX_9U3eCryKN",
        "outputId": "4113ffdd-6ab2-4994-a0e5-df2879299964"
      },
      "execution_count": 87,
      "outputs": [
        {
          "data": {
            "text/plain": [
              "array([[ 1.       , -0.0251213],\n",
              "       [-0.0251213,  1.       ]])"
            ]
          },
          "execution_count": 87,
          "metadata": {},
          "output_type": "execute_result"
        }
      ]
    },
    {
      "cell_type": "code",
      "source": [
        "import pandas as pd\n",
        "import seaborn as sns\n",
        "rand_df=pd.DataFrame()\n",
        "rand_df['x']=randx\n",
        "rand_df['y']=randy\n",
        "print(rand_df)\n",
        "     "
      ],
      "metadata": {
        "colab": {
          "base_uri": "https://localhost:8080/"
        },
        "id": "rj7AylpXrzow",
        "outputId": "039cee02-aad7-4525-d787-fa87aca0aab7"
      },
      "execution_count": 88,
      "outputs": [
        {
          "output_type": "stream",
          "name": "stdout",
          "text": [
            "      x    y\n",
            "0   916  934\n",
            "1   132  188\n",
            "2   397  193\n",
            "3   650  923\n",
            "4   294  426\n",
            "..  ...  ...\n",
            "95  889  424\n",
            "96  129  510\n",
            "97  685  117\n",
            "98   53  300\n",
            "99  144  873\n",
            "\n",
            "[100 rows x 2 columns]\n"
          ]
        }
      ]
    },
    {
      "cell_type": "code",
      "source": [
        "plt.scatter('x','y', data=rand_df)\n"
      ],
      "metadata": {
        "colab": {
          "base_uri": "https://localhost:8080/",
          "height": 283
        },
        "id": "aRisBOhPr2dV",
        "outputId": "18e3ae97-a51b-4ca4-a0b1-c275c0a8f371"
      },
      "execution_count": 89,
      "outputs": [
        {
          "output_type": "execute_result",
          "data": {
            "text/plain": [
              "<matplotlib.collections.PathCollection at 0x7f560e5327f0>"
            ]
          },
          "metadata": {},
          "execution_count": 89
        },
        {
          "output_type": "display_data",
          "data": {
            "text/plain": [
              "<Figure size 432x288 with 1 Axes>"
            ],
            "image/png": "[encoded data removed]"
          },
          "metadata": {}
        }
      ]
    },
    {
      "cell_type": "code",
      "source": [
        "sns.lmplot('x','y',data=rand_df)\n"
      ],
      "metadata": {
        "colab": {
          "base_uri": "https://localhost:8080/",
          "height": 443
        },
        "id": "6QrahXz5r3xS",
        "outputId": "5057493d-bc44-4def-ace0-ba6bdaf7b376"
      },
      "execution_count": 90,
      "outputs": [
        {
          "output_type": "stream",
          "name": "stderr",
          "text": [
            "/usr/local/lib/python3.8/dist-packages/seaborn/_decorators.py:36: FutureWarning: Pass the following variables as keyword args: x, y. From version 0.12, the only valid positional argument will be `data`, and passing other arguments without an explicit keyword will result in an error or misinterpretation.\n",
            "  warnings.warn(\n"
          ]
        },
        {
          "output_type": "execute_result",
          "data": {
            "text/plain": [
              "<seaborn.axisgrid.FacetGrid at 0x7f560e4eb550>"
            ]
          },
          "metadata": {},
          "execution_count": 90
        },
        {
          "output_type": "display_data",
          "data": {
            "text/plain": [
              "<Figure size 360x360 with 1 Axes>"
            ],
            "image/png": "[encoded data removed]"
          },
          "metadata": {}
        }
      ]
    },
    {
      "cell_type": "code",
      "source": [
        "sns.kdeplot(rand_df.x,rand_df.y)\n"
      ],
      "metadata": {
        "colab": {
          "base_uri": "https://localhost:8080/",
          "height": 356
        },
        "id": "ojWjtflHr8TN",
        "outputId": "a83852d1-9c26-4188-8864-e6f52f751826"
      },
      "execution_count": 91,
      "outputs": [
        {
          "output_type": "stream",
          "name": "stderr",
          "text": [
            "/usr/local/lib/python3.8/dist-packages/seaborn/_decorators.py:36: FutureWarning: Pass the following variable as a keyword arg: y. From version 0.12, the only valid positional argument will be `data`, and passing other arguments without an explicit keyword will result in an error or misinterpretation.\n",
            "  warnings.warn(\n"
          ]
        },
        {
          "output_type": "execute_result",
          "data": {
            "text/plain": [
              "<matplotlib.axes._subplots.AxesSubplot at 0x7f560bc64940>"
            ]
          },
          "metadata": {},
          "execution_count": 91
        },
        {
          "output_type": "display_data",
          "data": {
            "text/plain": [
              "<Figure size 432x288 with 1 Axes>"
            ],
            "image/png": "[encoded data removed]"
          },
          "metadata": {}
        }
      ]
    },
    {
      "cell_type": "code",
      "source": [
        "sns.barplot('x', data=rand_df)\n"
      ],
      "metadata": {
        "colab": {
          "base_uri": "https://localhost:8080/",
          "height": 356
        },
        "id": "s6C2aRsbr9kt",
        "outputId": "3cd174f1-03b6-4d94-f7d3-b1c9b9d7ec8a"
      },
      "execution_count": 92,
      "outputs": [
        {
          "output_type": "stream",
          "name": "stderr",
          "text": [
            "/usr/local/lib/python3.8/dist-packages/seaborn/_decorators.py:36: FutureWarning: Pass the following variable as a keyword arg: x. From version 0.12, the only valid positional argument will be `data`, and passing other arguments without an explicit keyword will result in an error or misinterpretation.\n",
            "  warnings.warn(\n"
          ]
        },
        {
          "output_type": "execute_result",
          "data": {
            "text/plain": [
              "<matplotlib.axes._subplots.AxesSubplot at 0x7f56099d6b20>"
            ]
          },
          "metadata": {},
          "execution_count": 92
        },
        {
          "output_type": "display_data",
          "data": {
            "text/plain": [
              "<Figure size 432x288 with 1 Axes>"
            ],
            "image/png": "[encoded data removed]"
          },
          "metadata": {}
        }
      ]
    },
    {
      "cell_type": "code",
      "source": [
        "rand_df.describe()\n"
      ],
      "metadata": {
        "colab": {
          "base_uri": "https://localhost:8080/",
          "height": 300
        },
        "id": "BhuTG7rrr_KR",
        "outputId": "9f10f04d-f28d-47b5-82a4-44c7f2c885bb"
      },
      "execution_count": 93,
      "outputs": [
        {
          "output_type": "execute_result",
          "data": {
            "text/plain": [
              "                x           y\n",
              "count  100.000000  100.000000\n",
              "mean   472.880000  520.040000\n",
              "std    289.143643  284.884911\n",
              "min     13.000000   32.000000\n",
              "25%    234.250000  290.000000\n",
              "50%    413.500000  498.500000\n",
              "75%    751.750000  791.500000\n",
              "max    987.000000  993.000000"
            ],
            "text/html": [
              "\n",
              "  <div id=\"df-e11b1d31-ad15-40b6-b95e-a5d48e2b48a1\">\n",
              "    <div class=\"colab-df-container\">\n",
              "      <div>\n",
              "<style scoped>\n",
              "    .dataframe tbody tr th:only-of-type {\n",
              "        vertical-align: middle;\n",
              "    }\n",
              "\n",
              "    .dataframe tbody tr th {\n",
              "        vertical-align: top;\n",
              "    }\n",
              "\n",
              "    .dataframe thead th {\n",
              "        text-align: right;\n",
              "    }\n",
              "</style>\n",
              "<table border=\"1\" class=\"dataframe\">\n",
              "  <thead>\n",
              "    <tr style=\"text-align: right;\">\n",
              "      <th></th>\n",
              "      <th>x</th>\n",
              "      <th>y</th>\n",
              "    </tr>\n",
              "  </thead>\n",
              "  <tbody>\n",
              "    <tr>\n",
              "      <th>count</th>\n",
              "      <td>100.000000</td>\n",
              "      <td>100.000000</td>\n",
              "    </tr>\n",
              "    <tr>\n",
              "      <th>mean</th>\n",
              "      <td>472.880000</td>\n",
              "      <td>520.040000</td>\n",
              "    </tr>\n",
              "    <tr>\n",
              "      <th>std</th>\n",
              "      <td>289.143643</td>\n",
              "      <td>284.884911</td>\n",
              "    </tr>\n",
              "    <tr>\n",
              "      <th>min</th>\n",
              "      <td>13.000000</td>\n",
              "      <td>32.000000</td>\n",
              "    </tr>\n",
              "    <tr>\n",
              "      <th>25%</th>\n",
              "      <td>234.250000</td>\n",
              "      <td>290.000000</td>\n",
              "    </tr>\n",
              "    <tr>\n",
              "      <th>50%</th>\n",
              "      <td>413.500000</td>\n",
              "      <td>498.500000</td>\n",
              "    </tr>\n",
              "    <tr>\n",
              "      <th>75%</th>\n",
              "      <td>751.750000</td>\n",
              "      <td>791.500000</td>\n",
              "    </tr>\n",
              "    <tr>\n",
              "      <th>max</th>\n",
              "      <td>987.000000</td>\n",
              "      <td>993.000000</td>\n",
              "    </tr>\n",
              "  </tbody>\n",
              "</table>\n",
              "</div>\n",
              "      <button class=\"colab-df-convert\" onclick=\"convertToInteractive('df-e11b1d31-ad15-40b6-b95e-a5d48e2b48a1')\"\n",
              "              title=\"Convert this dataframe to an interactive table.\"\n",
              "              style=\"display:none;\">\n",
              "        \n",
              "  <svg xmlns=\"http://www.w3.org/2000/svg\" height=\"24px\"viewBox=\"0 0 24 24\"\n",
              "       width=\"24px\">\n",
              "    <path d=\"M0 0h24v24H0V0z\" fill=\"none\"/>\n",
              "    <path d=\"M18.56 5.44l.94 2.06.94-2.06 2.06-.94-2.06-.94-.94-2.06-.94 2.06-2.06.94zm-11 1L8.5 8.5l.94-2.06 2.06-.94-2.06-.94L8.5 2.5l-.94 2.06-2.06.94zm10 10l.94 2.06.94-2.06 2.06-.94-2.06-.94-.94-2.06-.94 2.06-2.06.94z\"/><path d=\"M17.41 7.96l-1.37-1.37c-.4-.4-.92-.59-1.43-.59-.52 0-1.04.2-1.43.59L10.3 9.45l-7.72 7.72c-.78.78-.78 2.05 0 2.83L4 21.41c.39.39.9.59 1.41.59.51 0 1.02-.2 1.41-.59l7.78-7.78 2.81-2.81c.8-.78.8-2.07 0-2.86zM5.41 20L4 18.59l7.72-7.72 1.47 1.35L5.41 20z\"/>\n",
              "  </svg>\n",
              "      </button>\n",
              "      \n",
              "  <style>\n",
              "    .colab-df-container {\n",
              "      display:flex;\n",
              "      flex-wrap:wrap;\n",
              "      gap: 12px;\n",
              "    }\n",
              "\n",
              "    .colab-df-convert {\n",
              "      background-color: #E8F0FE;\n",
              "      border: none;\n",
              "      border-radius: 50%;\n",
              "      cursor: pointer;\n",
              "      display: none;\n",
              "      fill: #1967D2;\n",
              "      height: 32px;\n",
              "      padding: 0 0 0 0;\n",
              "      width: 32px;\n",
              "    }\n",
              "\n",
              "    .colab-df-convert:hover {\n",
              "      background-color: #E2EBFA;\n",
              "      box-shadow: 0px 1px 2px rgba(60, 64, 67, 0.3), 0px 1px 3px 1px rgba(60, 64, 67, 0.15);\n",
              "      fill: #174EA6;\n",
              "    }\n",
              "\n",
              "    [theme=dark] .colab-df-convert {\n",
              "      background-color: #3B4455;\n",
              "      fill: #D2E3FC;\n",
              "    }\n",
              "\n",
              "    [theme=dark] .colab-df-convert:hover {\n",
              "      background-color: #434B5C;\n",
              "      box-shadow: 0px 1px 3px 1px rgba(0, 0, 0, 0.15);\n",
              "      filter: drop-shadow(0px 1px 2px rgba(0, 0, 0, 0.3));\n",
              "      fill: #FFFFFF;\n",
              "    }\n",
              "  </style>\n",
              "\n",
              "      <script>\n",
              "        const buttonEl =\n",
              "          document.querySelector('#df-e11b1d31-ad15-40b6-b95e-a5d48e2b48a1 button.colab-df-convert');\n",
              "        buttonEl.style.display =\n",
              "          google.colab.kernel.accessAllowed ? 'block' : 'none';\n",
              "\n",
              "        async function convertToInteractive(key) {\n",
              "          const element = document.querySelector('#df-e11b1d31-ad15-40b6-b95e-a5d48e2b48a1');\n",
              "          const dataTable =\n",
              "            await google.colab.kernel.invokeFunction('convertToInteractive',\n",
              "                                                     [key], {});\n",
              "          if (!dataTable) return;\n",
              "\n",
              "          const docLinkHtml = 'Like what you see? Visit the ' +\n",
              "            '<a target=\"_blank\" href=https://colab.research.google.com/notebooks/data_table.ipynb>data table notebook</a>'\n",
              "            + ' to learn more about interactive tables.';\n",
              "          element.innerHTML = '';\n",
              "          dataTable['output_type'] = 'display_data';\n",
              "          await google.colab.output.renderOutput(dataTable, element);\n",
              "          const docLink = document.createElement('div');\n",
              "          docLink.innerHTML = docLinkHtml;\n",
              "          element.appendChild(docLink);\n",
              "        }\n",
              "      </script>\n",
              "    </div>\n",
              "  </div>\n",
              "  "
            ]
          },
          "metadata": {},
          "execution_count": 93
        }
      ]
    },
    {
      "cell_type": "code",
      "source": [
        "sns.boxplot(rand_df.x)\n"
      ],
      "metadata": {
        "colab": {
          "base_uri": "https://localhost:8080/",
          "height": 356
        },
        "id": "VLk__lG1sAYT",
        "outputId": "8c5ff147-44ce-458f-e51e-31f8da0f2e30"
      },
      "execution_count": 94,
      "outputs": [
        {
          "output_type": "stream",
          "name": "stderr",
          "text": [
            "/usr/local/lib/python3.8/dist-packages/seaborn/_decorators.py:36: FutureWarning: Pass the following variable as a keyword arg: x. From version 0.12, the only valid positional argument will be `data`, and passing other arguments without an explicit keyword will result in an error or misinterpretation.\n",
            "  warnings.warn(\n"
          ]
        },
        {
          "output_type": "execute_result",
          "data": {
            "text/plain": [
              "<matplotlib.axes._subplots.AxesSubplot at 0x7f56099a8370>"
            ]
          },
          "metadata": {},
          "execution_count": 94
        },
        {
          "output_type": "display_data",
          "data": {
            "text/plain": [
              "<Figure size 432x288 with 1 Axes>"
            ],
            "image/png": "[encoded data removed]"
          },
          "metadata": {}
        }
      ]
    },
    {
      "cell_type": "code",
      "source": [
        "\n",
        "sns.violinplot(rand_df.x)"
      ],
      "metadata": {
        "colab": {
          "base_uri": "https://localhost:8080/",
          "height": 356
        },
        "id": "_xVOVn59sKsu",
        "outputId": "2245b188-8bac-4a1b-82a3-a2c2587aa54a"
      },
      "execution_count": 95,
      "outputs": [
        {
          "output_type": "stream",
          "name": "stderr",
          "text": [
            "/usr/local/lib/python3.8/dist-packages/seaborn/_decorators.py:36: FutureWarning: Pass the following variable as a keyword arg: x. From version 0.12, the only valid positional argument will be `data`, and passing other arguments without an explicit keyword will result in an error or misinterpretation.\n",
            "  warnings.warn(\n"
          ]
        },
        {
          "output_type": "execute_result",
          "data": {
            "text/plain": [
              "<matplotlib.axes._subplots.AxesSubplot at 0x7f5609915df0>"
            ]
          },
          "metadata": {},
          "execution_count": 95
        },
        {
          "output_type": "display_data",
          "data": {
            "text/plain": [
              "<Figure size 432x288 with 1 Axes>"
            ],
            "image/png": "[encoded data removed]"
          },
          "metadata": {}
        }
      ]
    },
    {
      "cell_type": "code",
      "source": [
        "sns.violinplot('y', data=rand_df)\n"
      ],
      "metadata": {
        "colab": {
          "base_uri": "https://localhost:8080/",
          "height": 356
        },
        "id": "D8aEAtg6sMLn",
        "outputId": "17ab3bca-7dda-47c7-aa10-3cd020b57fbd"
      },
      "execution_count": 96,
      "outputs": [
        {
          "output_type": "stream",
          "name": "stderr",
          "text": [
            "/usr/local/lib/python3.8/dist-packages/seaborn/_decorators.py:36: FutureWarning: Pass the following variable as a keyword arg: x. From version 0.12, the only valid positional argument will be `data`, and passing other arguments without an explicit keyword will result in an error or misinterpretation.\n",
            "  warnings.warn(\n"
          ]
        },
        {
          "output_type": "execute_result",
          "data": {
            "text/plain": [
              "<matplotlib.axes._subplots.AxesSubplot at 0x7f56098f3970>"
            ]
          },
          "metadata": {},
          "execution_count": 96
        },
        {
          "output_type": "display_data",
          "data": {
            "text/plain": [
              "<Figure size 432x288 with 1 Axes>"
            ],
            "image/png": "[encoded data removed]"
          },
          "metadata": {}
        }
      ]
    },
    {
      "cell_type": "code",
      "source": [
        "!pip install py3Dmol\n",
        "import py3Dmol\n",
        "view = py3Dmol.view(query='pdb:2F9R')\n",
        "view.setStyle({'cartoon':{'color':'spectrum'}})\n",
        "view"
      ],
      "metadata": {
        "colab": {
          "base_uri": "https://localhost:8080/",
          "height": 604
        },
        "id": "nJ_wXouSsNl6",
        "outputId": "54402a2a-848a-443f-d2c6-663530df0f19"
      },
      "execution_count": 97,
      "outputs": [
        {
          "output_type": "stream",
          "name": "stdout",
          "text": [
            "Looking in indexes: https://pypi.org/simple, https://us-python.pkg.dev/colab-wheels/public/simple/\n",
            "Collecting py3Dmol\n",
            "  Downloading py3Dmol-1.8.1-py2.py3-none-any.whl (6.5 kB)\n",
            "Installing collected packages: py3Dmol\n",
            "Successfully installed py3Dmol-1.8.1\n"
          ]
        },
        {
          "output_type": "display_data",
          "data": {
            "application/3dmoljs_load.v0": "<div id=\"3dmolviewer_16706202315228\"  style=\"position: relative; width: 640px; height: 480px\">\n        <p id=\"3dmolwarning_16706202315228\" style=\"background-color:#ffcccc;color:black\">You appear to be running in JupyterLab (or JavaScript failed to load for some other reason).  You need to install the 3dmol extension: <br>\n        <tt>jupyter labextension install jupyterlab_3dmol</tt></p>\n        </div>\n<script>\n\nvar loadScriptAsync = function(uri){\n  return new Promise((resolve, reject) => {\n    var tag = document.createElement('script');\n    tag.src = uri;\n    tag.async = true;\n    tag.onload = () => {\n      resolve();\n    };\n  var firstScriptTag = document.getElementsByTagName('script')[0];\n  firstScriptTag.parentNode.insertBefore(tag, firstScriptTag);\n});\n};\n\nif(typeof $3Dmolpromise === 'undefined') {\n$3Dmolpromise = null;\n  $3Dmolpromise = loadScriptAsync('https://cdn.jsdelivr.net/npm/3dmol@latest/build/3Dmol-min.min.js');\n}\n\nvar viewer_16706202315228 = null;\nvar warn = document.getElementById(\"3dmolwarning_16706202315228\");\nif(warn) {\n    warn.parentNode.removeChild(warn);\n}\n$3Dmolpromise.then(function() {\nviewer_16706202315228 = $3Dmol.createViewer($(\"#3dmolviewer_16706202315228\"),{backgroundColor:\"white\"});\n$3Dmol.download(\"pdb:2F9R\", viewer_16706202315228, {}, function() {\nviewer_16706202315228.zoomTo();\n\tviewer_16706202315228.setStyle({\"cartoon\": {\"color\": \"spectrum\"}});\nviewer_16706202315228.render();\n})\n});\n</script>",
            "text/html": [
              "<div id=\"3dmolviewer_16706202315228\"  style=\"position: relative; width: 640px; height: 480px\">\n",
              "        <p id=\"3dmolwarning_16706202315228\" style=\"background-color:#ffcccc;color:black\">You appear to be running in JupyterLab (or JavaScript failed to load for some other reason).  You need to install the 3dmol extension: <br>\n",
              "        <tt>jupyter labextension install jupyterlab_3dmol</tt></p>\n",
              "        </div>\n",
              "<script>\n",
              "\n",
              "var loadScriptAsync = function(uri){\n",
              "  return new Promise((resolve, reject) => {\n",
              "    var tag = document.createElement('script');\n",
              "    tag.src = uri;\n",
              "    tag.async = true;\n",
              "    tag.onload = () => {\n",
              "      resolve();\n",
              "    };\n",
              "  var firstScriptTag = document.getElementsByTagName('script')[0];\n",
              "  firstScriptTag.parentNode.insertBefore(tag, firstScriptTag);\n",
              "});\n",
              "};\n",
              "\n",
              "if(typeof $3Dmolpromise === 'undefined') {\n",
              "$3Dmolpromise = null;\n",
              "  $3Dmolpromise = loadScriptAsync('https://cdn.jsdelivr.net/npm/3dmol@latest/build/3Dmol-min.min.js');\n",
              "}\n",
              "\n",
              "var viewer_16706202315228 = null;\n",
              "var warn = document.getElementById(\"3dmolwarning_16706202315228\");\n",
              "if(warn) {\n",
              "    warn.parentNode.removeChild(warn);\n",
              "}\n",
              "$3Dmolpromise.then(function() {\n",
              "viewer_16706202315228 = $3Dmol.createViewer($(\"#3dmolviewer_16706202315228\"),{backgroundColor:\"white\"});\n",
              "$3Dmol.download(\"pdb:2F9R\", viewer_16706202315228, {}, function() {\n",
              "viewer_16706202315228.zoomTo();\n",
              "\tviewer_16706202315228.setStyle({\"cartoon\": {\"color\": \"spectrum\"}});\n",
              "viewer_16706202315228.render();\n",
              "})\n",
              "});\n",
              "</script>"
            ]
          },
          "metadata": {}
        },
        {
          "output_type": "execute_result",
          "data": {
            "text/plain": [
              "<py3Dmol.view at 0x7f56099b1910>"
            ]
          },
          "metadata": {},
          "execution_count": 97
        }
      ]
    },
    {
      "cell_type": "markdown",
      "metadata": {
        "id": "649SbiPptJ4R"
      },
      "source": [
        "# List and loops "
      ]
    },
    {
      "cell_type": "code",
      "execution_count": 98,
      "metadata": {
        "id": "Sx2cy5GrtOJZ"
      },
      "outputs": [],
      "source": [
        "temps = [0.0, 32.0, 100, 212, 98.6]"
      ]
    },
    {
      "cell_type": "code",
      "execution_count": 99,
      "metadata": {
        "colab": {
          "base_uri": "https://localhost:8080/"
        },
        "id": "6nonJLtatdHi",
        "outputId": "187cc0a5-46ec-4580-9f8a-26a808685f1a"
      },
      "outputs": [
        {
          "metadata": {
            "tags": null
          },
          "name": "stdout",
          "output_type": "stream",
          "text": [
            "first temperature; 0.0\n",
            "length: 5\n"
          ]
        }
      ],
      "source": [
        "print('first temperature;', temps[0])\n",
        "print('length:', len(temps))"
      ]
    },
    {
      "cell_type": "code",
      "execution_count": 100,
      "metadata": {
        "colab": {
          "base_uri": "https://localhost:8080/"
        },
        "id": "X-2UwzVFtuoX",
        "outputId": "30cc784d-58f0-4a48-c95a-377cf3ba7700"
      },
      "outputs": [
        {
          "metadata": {
            "tags": null
          },
          "name": "stdout",
          "output_type": "stream",
          "text": [
            "first temperature: 0.0\n",
            "lasdt temperature: 98.6\n",
            "middle temperatures: [32.0, 100, 212]\n"
          ]
        }
      ],
      "source": [
        "print('first temperature:', temps[0])\n",
        "print('lasdt temperature:', temps[-1])\n",
        "print('middle temperatures:', temps[1:4])"
      ]
    },
    {
      "cell_type": "code",
      "execution_count": 101,
      "metadata": {
        "colab": {
          "base_uri": "https://localhost:8080/"
        },
        "id": "YptXcX-YuIfs",
        "outputId": "b003f735-941b-462f-a012-7b942b7db344"
      },
      "outputs": [
        {
          "output_type": "stream",
          "name": "stdout",
          "text": [
            "[-5, 32.0, 100, 212, 98.6]\n"
          ]
        }
      ],
      "source": [
        "temps[0]=-5\n",
        "print(temps)"
      ]
    },
    {
      "cell_type": "code",
      "execution_count": 102,
      "metadata": {
        "colab": {
          "base_uri": "https://localhost:8080/"
        },
        "id": "GMvajWn6uTM4",
        "outputId": "a8ef785f-8fed-409c-e18b-13ec2b74ba0b"
      },
      "outputs": [
        {
          "metadata": {
            "tags": null
          },
          "name": "stdout",
          "output_type": "stream",
          "text": [
            "[-5, 32.0, 100, 212, 98.6, 72]\n"
          ]
        }
      ],
      "source": [
        "temps.append(72)\n",
        "print(temps)"
      ]
    },
    {
      "cell_type": "code",
      "execution_count": 103,
      "metadata": {
        "colab": {
          "base_uri": "https://localhost:8080/"
        },
        "id": "G8V-Ph-oubin",
        "outputId": "a93611bf-2cf7-4072-86b9-c00b5cc78de1"
      },
      "outputs": [
        {
          "metadata": {
            "tags": null
          },
          "name": "stdout",
          "output_type": "stream",
          "text": [
            "[0.0, -5, 32.0, 100, 212, 98.6, 72]\n"
          ]
        }
      ],
      "source": [
        "temps.insert(0,0.0)\n",
        "print(temps)"
      ]
    },
    {
      "cell_type": "code",
      "execution_count": 104,
      "metadata": {
        "colab": {
          "base_uri": "https://localhost:8080/"
        },
        "id": "RqKmpua-vYqp",
        "outputId": "c11dd351-e916-4dc5-89cd-a17a603833e3"
      },
      "outputs": [
        {
          "output_type": "stream",
          "name": "stdout",
          "text": [
            "[-45, 75, 1000]\n"
          ]
        }
      ],
      "source": [
        "temps2 = [-45, 75, 1000]\n",
        "print(temps2)"
      ]
    },
    {
      "cell_type": "code",
      "execution_count": 105,
      "metadata": {
        "colab": {
          "base_uri": "https://localhost:8080/"
        },
        "id": "WF3vir7_viwX",
        "outputId": "595c8860-97f0-4159-b92c-2acaefb672ed"
      },
      "outputs": [
        {
          "metadata": {
            "tags": null
          },
          "name": "stdout",
          "output_type": "stream",
          "text": [
            "[0.0, -5, 32.0, 100, 212, 98.6, 72, -45, 75, 1000]\n"
          ]
        }
      ],
      "source": [
        "temps.extend(temps2)\n",
        "print(temps)"
      ]
    },
    {
      "cell_type": "code",
      "execution_count": 106,
      "metadata": {
        "colab": {
          "base_uri": "https://localhost:8080/"
        },
        "id": "-TsVh308v6oh",
        "outputId": "1a592c74-c5ac-4beb-8603-f91c59df8e2c"
      },
      "outputs": [
        {
          "metadata": {
            "tags": null
          },
          "name": "stdout",
          "output_type": "stream",
          "text": [
            "['large', 25, 'green', 62.25]\n"
          ]
        }
      ],
      "source": [
        "data = ['large', 25, 'green', 62.25]\n",
        "print(data)"
      ]
    },
    {
      "cell_type": "code",
      "execution_count": 107,
      "metadata": {
        "colab": {
          "base_uri": "https://localhost:8080/"
        },
        "id": "JCf-C0PDwHkj",
        "outputId": "bd25e585-6c34-4253-afdc-dc477db467e9"
      },
      "outputs": [
        {
          "output_type": "stream",
          "name": "stdout",
          "text": [
            "large\n"
          ]
        }
      ],
      "source": [
        "print(data[0])"
      ]
    },
    {
      "cell_type": "code",
      "execution_count": 108,
      "metadata": {
        "colab": {
          "base_uri": "https://localhost:8080/"
        },
        "id": "3Ov0bD2qwKm_",
        "outputId": "a900df9a-eb9c-45b8-daef-23c7de305235"
      },
      "outputs": [
        {
          "metadata": {
            "tags": null
          },
          "name": "stdout",
          "output_type": "stream",
          "text": [
            "lar\n"
          ]
        }
      ],
      "source": [
        "print(data[0][0:3])"
      ]
    },
    {
      "cell_type": "code",
      "execution_count": 109,
      "metadata": {
        "colab": {
          "base_uri": "https://localhost:8080/"
        },
        "id": "gVDLVwgCwSSX",
        "outputId": "c9653eba-e445-4346-bc09-a9d14b93d9c7"
      },
      "outputs": [
        {
          "metadata": {
            "tags": null
          },
          "name": "stdout",
          "output_type": "stream",
          "text": [
            "[-45, -5, 0.0, 32.0, 72, 75, 98.6, 100, 212, 1000]\n"
          ]
        }
      ],
      "source": [
        "print(sorted(temps))"
      ]
    },
    {
      "cell_type": "code",
      "execution_count": 110,
      "metadata": {
        "colab": {
          "base_uri": "https://localhost:8080/"
        },
        "id": "YaHzweDawlLp",
        "outputId": "c86882dd-93b6-4ef8-a8b7-aeb270086527"
      },
      "outputs": [
        {
          "metadata": {
            "tags": null
          },
          "name": "stdout",
          "output_type": "stream",
          "text": [
            "[-45, -5, 0.0, 32.0, 72, 75, 98.6, 100, 212, 1000]\n"
          ]
        }
      ],
      "source": [
        "temps.sort()\n",
        "print(temps)"
      ]
    },
    {
      "cell_type": "code",
      "execution_count": 111,
      "metadata": {
        "colab": {
          "base_uri": "https://localhost:8080/"
        },
        "id": "7vAzKouxw5_Q",
        "outputId": "722d383e-eb3f-4e90-d2e9-dd454954c2fb"
      },
      "outputs": [
        {
          "output_type": "stream",
          "name": "stdout",
          "text": [
            "32.0\n"
          ]
        }
      ],
      "source": [
        "print(temps[3])"
      ]
    },
    {
      "cell_type": "code",
      "execution_count": 112,
      "metadata": {
        "colab": {
          "base_uri": "https://localhost:8080/"
        },
        "id": "UXlD-flexA73",
        "outputId": "bcee5c7a-4179-4564-c0c0-a5c57fe5132e"
      },
      "outputs": [
        {
          "output_type": "stream",
          "name": "stdout",
          "text": [
            "-45\n",
            "-5\n",
            "0.0\n",
            "32.0\n",
            "72\n",
            "75\n",
            "98.6\n",
            "100\n",
            "212\n",
            "1000\n"
          ]
        }
      ],
      "source": [
        "for temp in temps:\n",
        "  print(temp)"
      ]
    },
    {
      "cell_type": "code",
      "execution_count": 113,
      "metadata": {
        "colab": {
          "base_uri": "https://localhost:8080/"
        },
        "id": "P3jWT-K4xOmu",
        "outputId": "8c4d99b5-c51e-4331-d755-11bbbaef5ad5"
      },
      "outputs": [
        {
          "output_type": "stream",
          "name": "stdout",
          "text": [
            "-45\n",
            "-5\n",
            "0.0\n",
            "32.0\n",
            "72\n",
            "75\n",
            "98.6\n",
            "100\n",
            "212\n",
            "1000\n"
          ]
        }
      ],
      "source": [
        "for x in temps:\n",
        "  print(x)"
      ]
    },
    {
      "cell_type": "code",
      "execution_count": 114,
      "metadata": {
        "colab": {
          "base_uri": "https://localhost:8080/"
        },
        "id": "tqE1nbKtyEEg",
        "outputId": "02e8d162-bc44-4ef9-8ed0-6865875cd73f"
      },
      "outputs": [
        {
          "metadata": {
            "tags": null
          },
          "name": "stdout",
          "output_type": "stream",
          "text": [
            "[10, 20, 30, 40, 50]\n"
          ]
        }
      ],
      "source": [
        "magnitude=[]\n",
        "for x in [1,2,3,4,5]:\n",
        "  y=x*10\n",
        "  magnitude.append(y)\n",
        "print(magnitude)"
      ]
    },
    {
      "cell_type": "code",
      "execution_count": 115,
      "metadata": {
        "colab": {
          "base_uri": "https://localhost:8080/"
        },
        "id": "faGuPb7Oywh5",
        "outputId": "24941d10-edd7-4f10-f917-ad35242d762d"
      },
      "outputs": [
        {
          "output_type": "stream",
          "name": "stdout",
          "text": [
            "1 1 1 0.0\n",
            "2 4 8 0.6931471805599453\n",
            "3 9 27 1.0986122886681098\n",
            "4 16 64 1.3862943611198906\n",
            "5 25 125 1.6094379124341003\n"
          ]
        }
      ],
      "source": [
        "import math as m\n",
        "for x in [1,2,3,4,5]:\n",
        "  sq=x**2\n",
        "  cb=x**3\n",
        "  log=m.log(x)\n",
        "  print(x, sq, cb, log)\n"
      ]
    },
    {
      "cell_type": "code",
      "execution_count": 116,
      "metadata": {
        "colab": {
          "base_uri": "https://localhost:8080/"
        },
        "id": "1bvxlOmYzPWH",
        "outputId": "f8816c11-dde3-4b81-8141-c2ba92f22b26"
      },
      "outputs": [
        {
          "metadata": {
            "tags": null
          },
          "name": "stdout",
          "output_type": "stream",
          "text": [
            "2809\n"
          ]
        }
      ],
      "source": [
        "ls = []\n",
        "for x in range(10,1000):\n",
        "  ls.append(x*x)\n",
        "  \n",
        "print(ls[43])\n"
      ]
    },
    {
      "cell_type": "markdown",
      "metadata": {
        "id": "rNBo_Jx4zo_7"
      },
      "source": [
        "### conditionals "
      ]
    },
    {
      "cell_type": "code",
      "execution_count": 117,
      "metadata": {
        "colab": {
          "base_uri": "https://localhost:8080/"
        },
        "id": "_MR_kActzoAH",
        "outputId": "79a56e0a-f9a6-42be-97bc-62236a2cddde"
      },
      "outputs": [
        {
          "output_type": "stream",
          "name": "stdout",
          "text": [
            "JUST RIGHT\n"
          ]
        }
      ],
      "source": [
        "temp=200\n",
        "if temp<200:\n",
        "  print('TOO COLD')\n",
        "elif temp>200:\n",
        "  print('TOO HOT')\n",
        "else:\n",
        "  print('JUST RIGHT')\n"
      ]
    },
    {
      "cell_type": "code",
      "execution_count": 118,
      "metadata": {
        "colab": {
          "base_uri": "https://localhost:8080/"
        },
        "id": "IRsvEyva0v4V",
        "outputId": "36ae40ee-8ac8-4555-81a7-6f5e1d3888e6"
      },
      "outputs": [
        {
          "output_type": "stream",
          "name": "stdout",
          "text": [
            "[-45, -5, 0.0, 32.0, 72, 75, 98.6, 100, 212, 1000]\n"
          ]
        }
      ],
      "source": [
        "print(temps)"
      ]
    },
    {
      "cell_type": "code",
      "execution_count": 119,
      "metadata": {
        "colab": {
          "base_uri": "https://localhost:8080/"
        },
        "id": "oDEZHPZW0TsY",
        "outputId": "078e09d1-ca3b-49d2-86de-eaa3a4957852"
      },
      "outputs": [
        {
          "metadata": {
            "tags": null
          },
          "name": "stdout",
          "output_type": "stream",
          "text": [
            "TOO COLD\n",
            "TOO COLD\n",
            "TOO COLD\n",
            "TOO COLD\n",
            "TOO COLD\n",
            "TOO COLD\n",
            "just right\n",
            "TOO HOT\n",
            "TOO HOT\n",
            "TOO HOT\n"
          ]
        }
      ],
      "source": [
        "for temp in temps:\n",
        "  if temp<98.6:\n",
        "    print ('TOO COLD')\n",
        "  elif temp>98.6:\n",
        "    print('TOO HOT')\n",
        "  else:\n",
        "    print('just right')"
      ]
    },
    {
      "cell_type": "code",
      "execution_count": 120,
      "metadata": {
        "colab": {
          "base_uri": "https://localhost:8080/"
        },
        "id": "RneCTgMP1kmY",
        "outputId": "6cd30854-4df0-48bc-95be-5f256f8db842"
      },
      "outputs": [
        {
          "metadata": {
            "tags": null
          },
          "name": "stdout",
          "output_type": "stream",
          "text": [
            "1\n",
            "2\n",
            "3\n",
            "4\n",
            "5\n",
            "6\n",
            "7\n",
            "8\n",
            "9\n",
            "10\n"
          ]
        }
      ],
      "source": [
        "dummy = 1 \n",
        "while dummy <= 10:\n",
        "  print(dummy)\n",
        "  dummy+=1"
      ]
    },
    {
      "cell_type": "markdown",
      "metadata": {
        "id": "XGAbLn4p2B80"
      },
      "source": [
        "### looping over data sets "
      ]
    },
    {
      "cell_type": "code",
      "execution_count": null,
      "metadata": {
        "colab": {
          "base_uri": "https://localhost:8080/"
        },
        "id": "bb_Vdw0N2Yix",
        "outputId": "42a11faa-945d-48cc-9544-abf54fe4b1d6"
      },
      "outputs": [
        {
          "output_type": "stream",
          "name": "stdout",
          "text": [
            "  % Total    % Received % Xferd  Average Speed   Time    Time     Time  Current\n",
            "                                 Dload  Upload   Total   Spent    Left  Speed\n",
            "100   137  100   137    0     0   5480      0 --:--:-- --:--:-- --:--:--  5708\n",
            "100   116    0   116    0     0    418      0 --:--:-- --:--:-- --:--:--   418\n",
            "100   340  100   340    0     0    568      0 --:--:-- --:--:-- --:--:--   568\n",
            "100   534    0   534    0     0    606      0 --:--:-- --:--:-- --:--:--  7739\n",
            "100 38179  100 38179    0     0  38332      0 --:--:-- --:--:-- --:--:-- 38332\n",
            "Archive:  PracCompPyData.zip\n",
            "replace data/gapminder_all.csv? [y]es, [n]o, [A]ll, [N]one, [r]ename: "
          ]
        }
      ],
      "source": [
        "!curl -L -o PracCompPyData.zip http://bit.ly/PracCompPyData\n",
        "!unzip PracCompPyData.zip "
      ]
    },
    {
      "cell_type": "code",
      "execution_count": null,
      "metadata": {
        "id": "y_VrY8dV2FgJ"
      },
      "outputs": [],
      "source": [
        "import pandas as pd \n",
        "for FileName in ['data/gapminder_gdp_americas.csv', 'data/gapminder_gdp_africa.csv']:\n",
        "  data = pd.read_csv(FileName, index_col='country')\n",
        "  print(FileName, data.min())"
      ]
    },
    {
      "cell_type": "code",
      "execution_count": null,
      "metadata": {
        "id": "HQ1e2YCR3TmR"
      },
      "outputs": [],
      "source": [
        "import glob\n",
        "print('all csv files:', glob.glob('data/gapminder_*.csv'))"
      ]
    },
    {
      "cell_type": "code",
      "execution_count": null,
      "metadata": {
        "id": "N_ijuMKB3uXZ"
      },
      "outputs": [],
      "source": [
        "for FileName in glob.glob('data/gapminder_gdp*.csv'):\n",
        "  data = pd.read_csv(FileName)\n",
        "  print(FileName, 'GDP_1977_minimum', data['gdpPercap_1977'].min())\n"
      ]
    },
    {
      "cell_type": "code",
      "execution_count": null,
      "metadata": {
        "id": "TW7RblD54YwM"
      },
      "outputs": [],
      "source": [
        "for FileName in glob.glob('data/gapminder_gdp*.csv'):\n",
        "  data = pd.read_csv(FileName)\n",
        "  print(FileName, 'GDP_1977_minimum', data['gdpPercap_2007'].min())\n"
      ]
    },
    {
      "cell_type": "markdown",
      "metadata": {
        "id": "SC2qqvXX46Yp"
      },
      "source": [
        "## functions "
      ]
    },
    {
      "cell_type": "code",
      "execution_count": null,
      "metadata": {
        "id": "7_CwVj4p476a"
      },
      "outputs": [],
      "source": [
        "InitCtemp = 100\n",
        "Ftemp=(9/5)*float(InitCtemp)+32\n",
        "print(Ftemp)"
      ]
    },
    {
      "cell_type": "code",
      "execution_count": null,
      "metadata": {
        "id": "PqhVzKIn5SOg"
      },
      "outputs": [],
      "source": [
        "from prompt_toolkit.shortcuts.utils import print_container\n",
        "def temp_cov(temp, scale): \n",
        "  if scale == 'C':\n",
        "    #print(str(temp)+ ' C = '+str((9/5)*float(temp)+32)+ ' F ')\n",
        "    return(str((9/5)*float(temp)))\n",
        "  elif scale == ' F ':\n",
        "    #print(str(temp)+ ' F '+str((5/9)*float(temp)-32)+ 'C')\n",
        "    return(str((5/9)*float(temp)))\n",
        "  else:\n",
        "    print('you made a mistake')"
      ]
    },
    {
      "cell_type": "code",
      "execution_count": null,
      "metadata": {
        "id": "SUw8FZ-T5yzS"
      },
      "outputs": [],
      "source": [
        "temp_cov(100, 'C')"
      ]
    },
    {
      "cell_type": "code",
      "execution_count": null,
      "metadata": {
        "id": "V_iIAdxn72y-"
      },
      "outputs": [],
      "source": [
        "new_temps=[]\n",
        "for x in temps:\n",
        "  y=float(temp_cov(x, ' F '))\n",
        "  new_temps.append(y)"
      ]
    },
    {
      "cell_type": "code",
      "execution_count": null,
      "metadata": {
        "id": "UXH00Xrv9COf"
      },
      "outputs": [],
      "source": [
        "print(new_temps)"
      ]
    },
    {
      "cell_type": "code",
      "execution_count": null,
      "metadata": {
        "id": "7KeL-D7SrXC_"
      },
      "outputs": [],
      "source": [
        "str(52)\n",
        "print"
      ]
    },
    {
      "cell_type": "code",
      "execution_count": null,
      "metadata": {
        "id": "e8ykHvWJ9VNK"
      },
      "outputs": [],
      "source": [
        "x = [1,2,3,4,5]\n",
        "for y in x:\n",
        "     print(y)\n"
      ]
    },
    {
      "cell_type": "code",
      "execution_count": null,
      "metadata": {
        "id": "a-3ez-pVAsRE"
      },
      "outputs": [],
      "source": [
        "x = 0\n",
        "while x <= 0:\n",
        "     print(x)\n",
        "     x = x+1\n",
        "\n",
        "\n",
        "print(x)"
      ]
    },
    {
      "cell_type": "code",
      "execution_count": null,
      "metadata": {
        "id": "LMUkfFz3JW0c"
      },
      "outputs": [],
      "source": [
        "foo = input('What is your input: ')"
      ]
    },
    {
      "cell_type": "code",
      "execution_count": null,
      "metadata": {
        "id": "ltK0RwsiJ98x"
      },
      "outputs": [],
      "source": [
        "XXX = [] \n",
        "print(XXX)\n",
        "type(XXX)\n"
      ]
    },
    {
      "cell_type": "markdown",
      "source": [
        "Render a PDF "
      ],
      "metadata": {
        "id": "Uv1EI0kSfp00"
      }
    },
    {
      "cell_type": "code",
      "source": [
        "\n",
        "!apt-get install texlive texlive-xetex texlive-latex-extra pandoc\n",
        "!pip install pypandoc\n",
        "\n",
        "from google.colab import drive\n",
        "drive.mount('/content/drive')\n",
        "\n",
        "!cp drive/My\\ Drive/Colab\\ Notebooks/PracComp2022.ipynb ./\n",
        "\n",
        "!jupyter nbconvert --to PDF \"PracComp2022.ipynb\"\n",
        "\n",
        "!rm ./PracComp2022.ipynb\n",
        "\n",
        "!mv PracComp2022.pdf drive/My\\ Drive/Colab\\ Notebooks/PracComp2022.pdf"
      ],
      "metadata": {
        "id": "zAoGI0rwfw2C"
      },
      "execution_count": null,
      "outputs": []
    }
  ],
  "metadata": {
    "colab": {
      "provenance": [],
      "collapsed_sections": [
        "uHwDh6FFBQ8h",
        "KeMACkUbBvBC",
        "rNBo_Jx4zo_7"
      ],
      "authorship_tag": "ABX9TyPls3Zqmb8KboLpDVthDmZ0",
      "include_colab_link": true
    },
    "kernelspec": {
      "display_name": "Python 3",
      "name": "python3"
    },
    "language_info": {
      "name": "python"
    }
  },
  "nbformat": 4,
  "nbformat_minor": 0
}