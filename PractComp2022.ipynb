{
  "cells": [
    {
      "cell_type": "markdown",
      "metadata": {
        "id": "view-in-github",
        "colab_type": "text"
      },
      "source": [
        "<a href=\"https://colab.research.google.com/github/psalib/practcomp_2022/blob/master/PractComp2022.ipynb\" target=\"_parent\"><img src=\"https://colab.research.google.com/assets/colab-badge.svg\" alt=\"Open In Colab\"/></a>"
      ]
    },
    {
      "cell_type": "markdown",
      "metadata": {
        "id": "OB3ECyhm7u6U"
      },
      "source": [
        "# BASICS "
      ]
    },
    {
      "cell_type": "markdown",
      "metadata": {
        "id": "1kVKsLal75FW"
      },
      "source": [
        "## MARKDOWN CARRY OVER \n"
      ]
    },
    {
      "cell_type": "markdown",
      "metadata": {
        "id": "nzg47Ria7-3x"
      },
      "source": [
        "* Use asterices \n",
        "* to creat \n",
        "* unordered lists \n",
        "1. Use numbers \n",
        "2. to create \n",
        "3. ordered lists \n",
        "\n",
        "* top level \n",
        "  * indent 1 \n",
        "  *indent 2 \n",
        "    * subindent 1\n",
        "    * subindent 2\n",
        "\n",
        "Line breaks \n",
        "dont \n",
        "matter \n",
        "\n",
        "\n",
        "but _blank lines_ creates new paragraphs \n",
        "\n",
        "[Marx](https://www.marxists.org/)\n",
        "\n",
        "\n"
      ]
    },
    {
      "cell_type": "markdown",
      "metadata": {
        "id": "OKjUrsq89Yxs"
      },
      "source": [
        "# PYTHON BASICS \n",
        "\n"
      ]
    },
    {
      "cell_type": "markdown",
      "metadata": {
        "id": "cxkaK1q79cTd"
      },
      "source": [
        "## variables "
      ]
    },
    {
      "cell_type": "code",
      "execution_count": null,
      "metadata": {
        "id": "RdJDfOnC8J7R"
      },
      "outputs": [],
      "source": [
        "myage = 23\n",
        "givenname = 'Bola'\n",
        "familyname = 'Salib'\n"
      ]
    },
    {
      "cell_type": "code",
      "execution_count": null,
      "metadata": {
        "colab": {
          "base_uri": "https://localhost:8080/"
        },
        "id": "dbLOjBOP92nt",
        "outputId": "39f2707b-db73-4c6e-cfb6-c465154476d1"
      },
      "outputs": [
        {
          "name": "stdout",
          "output_type": "stream",
          "text": [
            "Bola is 23 years old\n"
          ]
        }
      ],
      "source": [
        "print(givenname, 'is', myage, 'years old')"
      ]
    },
    {
      "cell_type": "markdown",
      "metadata": {
        "id": "Iph62u8tAEqE"
      },
      "source": [
        "### objects; strings vs integers"
      ]
    },
    {
      "cell_type": "code",
      "execution_count": null,
      "metadata": {
        "colab": {
          "base_uri": "https://localhost:8080/"
        },
        "id": "CXDsXYn_-eGn",
        "outputId": "954d0ff9-3a53-4615-92ca-d3c1b7705380"
      },
      "outputs": [
        {
          "name": "stdout",
          "output_type": "stream",
          "text": [
            "<class 'int'> <class 'str'>\n"
          ]
        }
      ],
      "source": [
        "#type(myage)\n",
        "#type(givenname)\n",
        "\n",
        "print(type(myage), type(givenname))"
      ]
    },
    {
      "cell_type": "code",
      "execution_count": null,
      "metadata": {
        "colab": {
          "base_uri": "https://localhost:8080/"
        },
        "id": "Hz8SMJWR_DsS",
        "outputId": "40642024-fd1a-487d-cce8-70cccc0effd8"
      },
      "outputs": [
        {
          "name": "stdout",
          "output_type": "stream",
          "text": [
            "24\n"
          ]
        }
      ],
      "source": [
        "myage_str = str(myage)\n",
        "type(myage_str)\n",
        "print(myage + 1)\n",
        "\n"
      ]
    },
    {
      "cell_type": "code",
      "execution_count": null,
      "metadata": {
        "colab": {
          "base_uri": "https://localhost:8080/",
          "height": 169
        },
        "id": "0cBEsm1V_j2R",
        "outputId": "545f2cdd-a84d-4c26-ce6e-b678cce79cbc"
      },
      "outputs": [
        {
          "ename": "TypeError",
          "evalue": "ignored",
          "output_type": "error",
          "traceback": [
            "\u001b[0;31m---------------------------------------------------------------------------\u001b[0m",
            "\u001b[0;31mTypeError\u001b[0m                                 Traceback (most recent call last)",
            "\u001b[0;32m<ipython-input-5-7f5707d5d15e>\u001b[0m in \u001b[0;36m<module>\u001b[0;34m\u001b[0m\n\u001b[0;32m----> 1\u001b[0;31m \u001b[0mprint\u001b[0m\u001b[0;34m(\u001b[0m\u001b[0mmyage_str\u001b[0m \u001b[0;34m+\u001b[0m \u001b[0;36m1\u001b[0m\u001b[0;34m)\u001b[0m\u001b[0;34m\u001b[0m\u001b[0;34m\u001b[0m\u001b[0m\n\u001b[0m",
            "\u001b[0;31mTypeError\u001b[0m: can only concatenate str (not \"int\") to str"
          ]
        }
      ],
      "source": [
        "print(myage_str + 1)"
      ]
    },
    {
      "cell_type": "code",
      "execution_count": null,
      "metadata": {
        "id": "E1ILYHWR_mqo"
      },
      "outputs": [],
      "source": [
        "print(myage_str + str(1))"
      ]
    },
    {
      "cell_type": "code",
      "execution_count": null,
      "metadata": {
        "id": "yJDC5u3G_tJT"
      },
      "outputs": [],
      "source": [
        "print(myage + myage)"
      ]
    },
    {
      "cell_type": "code",
      "execution_count": null,
      "metadata": {
        "id": "BOBUXsns_0nl"
      },
      "outputs": [],
      "source": [
        "print(myage_str + myage_str)"
      ]
    },
    {
      "cell_type": "markdown",
      "metadata": {
        "id": "AZHQ825VAAhw"
      },
      "source": [
        "### indexing \n",
        "\n",
        "**python starts counting at ZERO**\n",
        "\n",
        "\n",
        "\n"
      ]
    },
    {
      "cell_type": "code",
      "execution_count": null,
      "metadata": {
        "id": "0946c6KEAVdb"
      },
      "outputs": [],
      "source": [
        "givenname[0]"
      ]
    },
    {
      "cell_type": "code",
      "execution_count": null,
      "metadata": {
        "id": "NxuKS3izAfR7"
      },
      "outputs": [],
      "source": [
        "givenname[2:4]"
      ]
    },
    {
      "cell_type": "code",
      "execution_count": null,
      "metadata": {
        "id": "tJY0fmcJAjwr"
      },
      "outputs": [],
      "source": [
        "givenname[0:3]"
      ]
    },
    {
      "cell_type": "code",
      "execution_count": null,
      "metadata": {
        "id": "NxzKDpvaAmwX"
      },
      "outputs": [],
      "source": [
        "givenname[0:]"
      ]
    },
    {
      "cell_type": "code",
      "execution_count": null,
      "metadata": {
        "id": "xdx0Vy8EA12M"
      },
      "outputs": [],
      "source": [
        "len(givenname)"
      ]
    },
    {
      "cell_type": "markdown",
      "metadata": {
        "id": "uHwDh6FFBQ8h"
      },
      "source": [
        "### math: integers vs floats"
      ]
    },
    {
      "cell_type": "code",
      "execution_count": null,
      "metadata": {
        "id": "qPxxDz4HBXMw"
      },
      "outputs": [],
      "source": [
        "myage/4"
      ]
    },
    {
      "cell_type": "code",
      "execution_count": null,
      "metadata": {
        "id": "vFjJHKCwBaqS"
      },
      "outputs": [],
      "source": [
        "type(myage/4)"
      ]
    },
    {
      "cell_type": "code",
      "execution_count": null,
      "metadata": {
        "id": "FNUQH7iBBdqk"
      },
      "outputs": [],
      "source": [
        "float(myage)"
      ]
    },
    {
      "cell_type": "code",
      "execution_count": null,
      "metadata": {
        "id": "UqmLIUTBBm-k"
      },
      "outputs": [],
      "source": [
        "myage + float(myage)"
      ]
    },
    {
      "cell_type": "markdown",
      "metadata": {
        "id": "KeMACkUbBvBC"
      },
      "source": [
        "### BASICS WRAP-UP\n"
      ]
    },
    {
      "cell_type": "code",
      "execution_count": null,
      "metadata": {
        "id": "5hiBo1Q5By5d"
      },
      "outputs": [],
      "source": [
        "fullname_age = givenname + ' john ' + familyname + ' is my full name, and i am '  +str(myage)+  ' years old ;/ '\n",
        "print(fullname_age)"
      ]
    },
    {
      "cell_type": "markdown",
      "metadata": {
        "id": "4aXi-FkHD-sZ"
      },
      "source": [
        "# MATH IN PYTHON \n"
      ]
    },
    {
      "cell_type": "code",
      "execution_count": null,
      "metadata": {
        "colab": {
          "base_uri": "https://localhost:8080/"
        },
        "id": "Lv2vuQGcEA-4",
        "outputId": "8339d2e5-ae20-44bf-9b65-ad5d63043117"
      },
      "outputs": [
        {
          "data": {
            "text/plain": [
              "3.0"
            ]
          },
          "execution_count": 37,
          "metadata": {},
          "output_type": "execute_result"
        }
      ],
      "source": [
        "6/2"
      ]
    },
    {
      "cell_type": "code",
      "execution_count": null,
      "metadata": {
        "colab": {
          "base_uri": "https://localhost:8080/"
        },
        "id": "tymAgofLED7x",
        "outputId": "d2c5435d-7abf-4851-b141-d59d727e7ae8"
      },
      "outputs": [
        {
          "name": "stdout",
          "output_type": "stream",
          "text": [
            "<class 'float'> <class 'int'>\n"
          ]
        }
      ],
      "source": [
        "print(type(5/2), type(5//2))"
      ]
    },
    {
      "cell_type": "markdown",
      "metadata": {
        "id": "649SbiPptJ4R"
      },
      "source": [
        "# List and loops "
      ]
    },
    {
      "cell_type": "code",
      "execution_count": null,
      "metadata": {
        "id": "Sx2cy5GrtOJZ"
      },
      "outputs": [],
      "source": [
        "temps = [0.0, 32.0, 100, 212, 98.6]"
      ]
    },
    {
      "cell_type": "code",
      "execution_count": null,
      "metadata": {
        "colab": {
          "base_uri": "https://localhost:8080/"
        },
        "id": "6nonJLtatdHi",
        "outputId": "46757f2b-1c4b-4184-9474-571406d8cb94"
      },
      "outputs": [
        {
          "name": "stdout",
          "output_type": "stream",
          "text": [
            "first temperature; 0.0\n",
            "length: 5\n"
          ]
        }
      ],
      "source": [
        "print('first temperature;', temps[0])\n",
        "print('length:', len(temps))"
      ]
    },
    {
      "cell_type": "code",
      "execution_count": null,
      "metadata": {
        "colab": {
          "base_uri": "https://localhost:8080/"
        },
        "id": "X-2UwzVFtuoX",
        "outputId": "cf333db2-fab4-41d0-d28c-f292f0f8287f"
      },
      "outputs": [
        {
          "name": "stdout",
          "output_type": "stream",
          "text": [
            "first temperature: 0.0\n",
            "lasdt temperature: 98.6\n",
            "middle temperatures: [32.0, 100, 212]\n"
          ]
        }
      ],
      "source": [
        "print('first temperature:', temps[0])\n",
        "print('lasdt temperature:', temps[-1])\n",
        "print('middle temperatures:', temps[1:4])"
      ]
    },
    {
      "cell_type": "code",
      "execution_count": null,
      "metadata": {
        "colab": {
          "base_uri": "https://localhost:8080/"
        },
        "id": "YptXcX-YuIfs",
        "outputId": "53e079ac-d40a-45fe-806e-31e306f35aef"
      },
      "outputs": [
        {
          "name": "stdout",
          "output_type": "stream",
          "text": [
            "[-5, 32.0, 100, 212, 98.6]\n"
          ]
        }
      ],
      "source": [
        "temps[0]=-5\n",
        "print(temps)"
      ]
    },
    {
      "cell_type": "code",
      "execution_count": null,
      "metadata": {
        "colab": {
          "base_uri": "https://localhost:8080/"
        },
        "id": "GMvajWn6uTM4",
        "outputId": "b5d1333f-b0c7-49ee-bb09-b201d0e82214"
      },
      "outputs": [
        {
          "name": "stdout",
          "output_type": "stream",
          "text": [
            "[-5, 32.0, 100, 212, 98.6, 72]\n"
          ]
        }
      ],
      "source": [
        "temps.append(72)\n",
        "print(temps)"
      ]
    },
    {
      "cell_type": "code",
      "execution_count": null,
      "metadata": {
        "colab": {
          "base_uri": "https://localhost:8080/"
        },
        "id": "G8V-Ph-oubin",
        "outputId": "97271e25-1315-4dfd-e564-380db8ee13d1"
      },
      "outputs": [
        {
          "name": "stdout",
          "output_type": "stream",
          "text": [
            "[0.0, -40, 0.0, -5, 32.0, 100, 212, 98.6, -40, 72]\n"
          ]
        }
      ],
      "source": [
        "temps.insert(0,0.0)\n",
        "print(temps)"
      ]
    },
    {
      "cell_type": "code",
      "execution_count": null,
      "metadata": {
        "colab": {
          "base_uri": "https://localhost:8080/"
        },
        "id": "RqKmpua-vYqp",
        "outputId": "2498ca2f-ae4b-4ec0-b068-708fdc2a8559"
      },
      "outputs": [
        {
          "name": "stdout",
          "output_type": "stream",
          "text": [
            "[-45, 75, 1000]\n"
          ]
        }
      ],
      "source": [
        "temps2 = [-45, 75, 1000]\n",
        "print(temps2)"
      ]
    },
    {
      "cell_type": "code",
      "execution_count": null,
      "metadata": {
        "colab": {
          "base_uri": "https://localhost:8080/"
        },
        "id": "WF3vir7_viwX",
        "outputId": "ecdaaf1a-034c-4101-e0ce-0fdd70436aef"
      },
      "outputs": [
        {
          "name": "stdout",
          "output_type": "stream",
          "text": [
            "[0.0, -40, 0.0, -5, 32.0, 100, 212, 98.6, -40, 72, -45, 75, 1000]\n"
          ]
        }
      ],
      "source": [
        "temps.extend(temps2)\n",
        "print(temps)"
      ]
    },
    {
      "cell_type": "code",
      "execution_count": null,
      "metadata": {
        "colab": {
          "base_uri": "https://localhost:8080/",
          "height": 133
        },
        "id": "IbJ6l2V6vqDZ",
        "outputId": "2783056f-98e9-4302-82dd-8ecf236c7945"
      },
      "outputs": [
        {
          "ename": "SyntaxError",
          "evalue": "ignored",
          "output_type": "error",
          "traceback": [
            "\u001b[0;36m  File \u001b[0;32m\"<ipython-input-21-575fd4d86638>\"\u001b[0;36m, line \u001b[0;32m1\u001b[0m\n\u001b[0;31m    del temps (0.0, 72, -45, 75, 1000)\u001b[0m\n\u001b[0m       ^\u001b[0m\n\u001b[0;31mSyntaxError\u001b[0m\u001b[0;31m:\u001b[0m can't delete function call\n"
          ]
        }
      ],
      "source": [
        "del temps (0.0, 72, -45, 75, 1000)"
      ]
    },
    {
      "cell_type": "code",
      "execution_count": null,
      "metadata": {
        "colab": {
          "base_uri": "https://localhost:8080/"
        },
        "id": "-TsVh308v6oh",
        "outputId": "520ce323-7a9e-4169-b564-dfdca57dd28e"
      },
      "outputs": [
        {
          "name": "stdout",
          "output_type": "stream",
          "text": [
            "['large', 25, 'green', 62.25]\n"
          ]
        }
      ],
      "source": [
        "data = ['large', 25, 'green', 62.25]\n",
        "print(data)"
      ]
    },
    {
      "cell_type": "code",
      "execution_count": null,
      "metadata": {
        "colab": {
          "base_uri": "https://localhost:8080/"
        },
        "id": "JCf-C0PDwHkj",
        "outputId": "9cc03ee2-d050-4b6b-a6d1-4b0b852e78ce"
      },
      "outputs": [
        {
          "name": "stdout",
          "output_type": "stream",
          "text": [
            "large\n"
          ]
        }
      ],
      "source": [
        "print(data[0])"
      ]
    },
    {
      "cell_type": "code",
      "execution_count": null,
      "metadata": {
        "colab": {
          "base_uri": "https://localhost:8080/"
        },
        "id": "3Ov0bD2qwKm_",
        "outputId": "ba11d1f6-06f5-46ba-e091-194b6caed35f"
      },
      "outputs": [
        {
          "name": "stdout",
          "output_type": "stream",
          "text": [
            "lar\n"
          ]
        }
      ],
      "source": [
        "print(data[0][0:3])"
      ]
    },
    {
      "cell_type": "code",
      "execution_count": null,
      "metadata": {
        "colab": {
          "base_uri": "https://localhost:8080/"
        },
        "id": "gVDLVwgCwSSX",
        "outputId": "e4366f02-fd28-4684-acd1-24151a4be9b3"
      },
      "outputs": [
        {
          "name": "stdout",
          "output_type": "stream",
          "text": [
            "[-45, -40, -40, -5, 0.0, 0.0, 32.0, 72, 75, 98.6, 100, 212, 1000]\n"
          ]
        }
      ],
      "source": [
        "print(sorted(temps))"
      ]
    },
    {
      "cell_type": "code",
      "execution_count": null,
      "metadata": {
        "colab": {
          "base_uri": "https://localhost:8080/",
          "height": 169
        },
        "id": "Cgvwws9_wXFn",
        "outputId": "83034f8d-1465-44f5-afa5-391d6bd78a95"
      },
      "outputs": [
        {
          "ename": "NameError",
          "evalue": "ignored",
          "output_type": "error",
          "traceback": [
            "\u001b[0;31m---------------------------------------------------------------------------\u001b[0m",
            "\u001b[0;31mNameError\u001b[0m                                 Traceback (most recent call last)",
            "\u001b[0;32m<ipython-input-32-c72b313b8bb3>\u001b[0m in \u001b[0;36m<module>\u001b[0;34m\u001b[0m\n\u001b[0;32m----> 1\u001b[0;31m \u001b[0mdeltemps\u001b[0m \u001b[0;34m(\u001b[0m\u001b[0;36m0\u001b[0m\u001b[0;34m)\u001b[0m\u001b[0;34m\u001b[0m\u001b[0;34m\u001b[0m\u001b[0m\n\u001b[0m",
            "\u001b[0;31mNameError\u001b[0m: name 'deltemps' is not defined"
          ]
        }
      ],
      "source": [
        "del temps (0)"
      ]
    },
    {
      "cell_type": "code",
      "execution_count": null,
      "metadata": {
        "colab": {
          "base_uri": "https://localhost:8080/"
        },
        "id": "YaHzweDawlLp",
        "outputId": "4835c6b9-e974-42a3-95c4-929fb42a5ff7"
      },
      "outputs": [
        {
          "name": "stdout",
          "output_type": "stream",
          "text": [
            "[-45, -40, -40, -5, 0.0, 0.0, 32.0, 72, 75, 98.6, 100, 212, 1000]\n"
          ]
        }
      ],
      "source": [
        "temps.sort()\n",
        "print(temps)"
      ]
    },
    {
      "cell_type": "code",
      "execution_count": null,
      "metadata": {
        "colab": {
          "base_uri": "https://localhost:8080/"
        },
        "id": "7vAzKouxw5_Q",
        "outputId": "1362cc2c-0dd2-40f6-faf9-bf86b6001a6d"
      },
      "outputs": [
        {
          "name": "stdout",
          "output_type": "stream",
          "text": [
            "-5\n"
          ]
        }
      ],
      "source": [
        "print(temps[3])"
      ]
    },
    {
      "cell_type": "code",
      "execution_count": null,
      "metadata": {
        "colab": {
          "base_uri": "https://localhost:8080/"
        },
        "id": "UXlD-flexA73",
        "outputId": "aabe3899-f1cc-4de4-82f4-4c8fd3ecc72c"
      },
      "outputs": [
        {
          "name": "stdout",
          "output_type": "stream",
          "text": [
            "-45\n",
            "-40\n",
            "-40\n",
            "-5\n",
            "0.0\n",
            "0.0\n",
            "32.0\n",
            "72\n",
            "75\n",
            "98.6\n",
            "100\n",
            "212\n",
            "1000\n"
          ]
        }
      ],
      "source": [
        "for temp in temps:\n",
        "  print(temp)"
      ]
    },
    {
      "cell_type": "code",
      "execution_count": null,
      "metadata": {
        "colab": {
          "base_uri": "https://localhost:8080/"
        },
        "id": "P3jWT-K4xOmu",
        "outputId": "f7f5496f-44b5-4704-a56b-0e10dc3e0acb"
      },
      "outputs": [
        {
          "name": "stdout",
          "output_type": "stream",
          "text": [
            "-45\n",
            "-40\n",
            "-40\n",
            "-5\n",
            "0.0\n",
            "0.0\n",
            "32.0\n",
            "72\n",
            "75\n",
            "98.6\n",
            "100\n",
            "212\n",
            "1000\n"
          ]
        }
      ],
      "source": [
        "for x in temps:\n",
        "  print(x)"
      ]
    },
    {
      "cell_type": "code",
      "execution_count": null,
      "metadata": {
        "colab": {
          "base_uri": "https://localhost:8080/"
        },
        "id": "tqE1nbKtyEEg",
        "outputId": "08c4d93e-a2aa-4f7d-91b2-ca65337ee255"
      },
      "outputs": [
        {
          "name": "stdout",
          "output_type": "stream",
          "text": [
            "[10, 20, 30, 40, 50]\n"
          ]
        }
      ],
      "source": [
        "magnitude=[]\n",
        "for x in [1,2,3,4,5]:\n",
        "  y=x*10\n",
        "  magnitude.append(y)\n",
        "print(magnitude)"
      ]
    },
    {
      "cell_type": "code",
      "execution_count": null,
      "metadata": {
        "colab": {
          "base_uri": "https://localhost:8080/"
        },
        "id": "faGuPb7Oywh5",
        "outputId": "e3ce2433-3ad1-4858-f177-977565de7998"
      },
      "outputs": [
        {
          "name": "stdout",
          "output_type": "stream",
          "text": [
            "1 1 1 0.0\n",
            "2 4 8 0.6931471805599453\n",
            "3 9 27 1.0986122886681098\n",
            "4 16 64 1.3862943611198906\n",
            "5 25 125 1.6094379124341003\n"
          ]
        }
      ],
      "source": [
        "import math as m\n",
        "for x in [1,2,3,4,5]:\n",
        "  sq=x**2\n",
        "  cb=x**3\n",
        "  log=m.log(x)\n",
        "  print(x, sq, cb, log)\n"
      ]
    },
    {
      "cell_type": "code",
      "execution_count": null,
      "metadata": {
        "colab": {
          "base_uri": "https://localhost:8080/"
        },
        "id": "1bvxlOmYzPWH",
        "outputId": "6483a3df-b772-4481-c33e-c13d854b5628"
      },
      "outputs": [
        {
          "name": "stdout",
          "output_type": "stream",
          "text": [
            "2809\n"
          ]
        }
      ],
      "source": [
        "ls = []\n",
        "for x in range(10,1000):\n",
        "  ls.append(x*x)\n",
        "  \n",
        "print(ls[43])\n"
      ]
    },
    {
      "cell_type": "markdown",
      "metadata": {
        "id": "rNBo_Jx4zo_7"
      },
      "source": [
        "### conditionals "
      ]
    },
    {
      "cell_type": "code",
      "execution_count": null,
      "metadata": {
        "colab": {
          "base_uri": "https://localhost:8080/"
        },
        "id": "_MR_kActzoAH",
        "outputId": "d2801c7e-3054-41f1-8fde-c8cb1eb1726d"
      },
      "outputs": [
        {
          "name": "stdout",
          "output_type": "stream",
          "text": [
            "JUST RIGHT\n"
          ]
        }
      ],
      "source": [
        "temp=200\n",
        "if temp<200:\n",
        "  print('TOO COLD')\n",
        "elif temp>200:\n",
        "  print('TOO HOT')\n",
        "else:\n",
        "  print('JUST RIGHT')\n"
      ]
    },
    {
      "cell_type": "code",
      "execution_count": null,
      "metadata": {
        "colab": {
          "base_uri": "https://localhost:8080/"
        },
        "id": "IRsvEyva0v4V",
        "outputId": "e3c6bb2d-54eb-4ea8-c49e-51645151c89f"
      },
      "outputs": [
        {
          "name": "stdout",
          "output_type": "stream",
          "text": [
            "[-45, -40, -40, -5, 0.0, 0.0, 32.0, 72, 75, 98.6, 100, 212, 1000]\n"
          ]
        }
      ],
      "source": [
        "print(temps)"
      ]
    },
    {
      "cell_type": "code",
      "execution_count": null,
      "metadata": {
        "colab": {
          "base_uri": "https://localhost:8080/"
        },
        "id": "oDEZHPZW0TsY",
        "outputId": "90df5bd3-9015-4c61-9d38-10798fcd7585"
      },
      "outputs": [
        {
          "name": "stdout",
          "output_type": "stream",
          "text": [
            "TOO COLD\n",
            "TOO COLD\n",
            "TOO COLD\n",
            "TOO COLD\n",
            "TOO COLD\n",
            "TOO COLD\n",
            "TOO COLD\n",
            "TOO COLD\n",
            "TOO COLD\n",
            "just right\n",
            "TOO HOT\n",
            "TOO HOT\n",
            "TOO HOT\n"
          ]
        }
      ],
      "source": [
        "for temp in temps:\n",
        "  if temp<98.6:\n",
        "    print ('TOO COLD')\n",
        "  elif temp>98.6:\n",
        "    print('TOO HOT')\n",
        "  else:\n",
        "    print('just right')"
      ]
    },
    {
      "cell_type": "code",
      "execution_count": null,
      "metadata": {
        "colab": {
          "base_uri": "https://localhost:8080/"
        },
        "id": "RneCTgMP1kmY",
        "outputId": "fa85a461-df0d-4ae9-9266-57d0f602c294"
      },
      "outputs": [
        {
          "name": "stdout",
          "output_type": "stream",
          "text": [
            "1\n",
            "2\n",
            "3\n",
            "4\n",
            "5\n",
            "6\n",
            "7\n",
            "8\n",
            "9\n",
            "10\n"
          ]
        }
      ],
      "source": [
        "dummy = 1 \n",
        "while dummy <= 10:\n",
        "  print(dummy)\n",
        "  dummy+=1"
      ]
    },
    {
      "cell_type": "markdown",
      "metadata": {
        "id": "XGAbLn4p2B80"
      },
      "source": [
        "### looping over data sets "
      ]
    },
    {
      "cell_type": "code",
      "execution_count": null,
      "metadata": {
        "colab": {
          "base_uri": "https://localhost:8080/"
        },
        "id": "bb_Vdw0N2Yix",
        "outputId": "18b50b4c-920d-4b78-a324-d0830b4b9196"
      },
      "outputs": [
        {
          "name": "stdout",
          "output_type": "stream",
          "text": [
            "  % Total    % Received % Xferd  Average Speed   Time    Time     Time  Current\n",
            "                                 Dload  Upload   Total   Spent    Left  Speed\n",
            "100   137  100   137    0     0   1022      0 --:--:-- --:--:-- --:--:--  1014\n",
            "100   116    0   116    0     0    261      0 --:--:-- --:--:-- --:--:--   261\n",
            "100   340  100   340    0     0    483      0 --:--:-- --:--:-- --:--:--   483\n",
            "100   534    0   534    0     0    615      0 --:--:-- --:--:-- --:--:--   615\n",
            "100 38179  100 38179    0     0  36569      0  0:00:01  0:00:01 --:--:-- 36569\n",
            "Archive:  PracCompPyData.zip\n",
            "  inflating: data/gapminder_all.csv  \n",
            "  inflating: data/gapminder_gdp_africa.csv  \n",
            "  inflating: data/gapminder_gdp_americas.csv  \n",
            "  inflating: data/gapminder_gdp_asia.csv  \n",
            "  inflating: data/gapminder_gdp_europe.csv  \n",
            "  inflating: data/gapminder_gdp_oceania.csv  \n"
          ]
        }
      ],
      "source": [
        "!curl -L -o PracCompPyData.zip http://bit.ly/PracCompPyData\n",
        "!unzip PracCompPyData.zip "
      ]
    },
    {
      "cell_type": "code",
      "execution_count": null,
      "metadata": {
        "colab": {
          "base_uri": "https://localhost:8080/"
        },
        "id": "y_VrY8dV2FgJ",
        "outputId": "617c2908-cf57-4ff6-eaa0-9ca283c25b52"
      },
      "outputs": [
        {
          "name": "stdout",
          "output_type": "stream",
          "text": [
            "data/gapminder_gdp_americas.csv continent            Americas\n",
            "gdpPercap_1952    1397.717137\n",
            "gdpPercap_1957    1544.402995\n",
            "gdpPercap_1962    1662.137359\n",
            "gdpPercap_1967    1452.057666\n",
            "gdpPercap_1972    1654.456946\n",
            "gdpPercap_1977    1874.298931\n",
            "gdpPercap_1982    2011.159549\n",
            "gdpPercap_1987    1823.015995\n",
            "gdpPercap_1992    1456.309517\n",
            "gdpPercap_1997    1341.726931\n",
            "gdpPercap_2002    1270.364932\n",
            "gdpPercap_2007    1201.637154\n",
            "dtype: object\n",
            "data/gapminder_gdp_africa.csv gdpPercap_1952    298.846212\n",
            "gdpPercap_1957    335.997115\n",
            "gdpPercap_1962    355.203227\n",
            "gdpPercap_1967    412.977514\n",
            "gdpPercap_1972    464.099504\n",
            "gdpPercap_1977    502.319733\n",
            "gdpPercap_1982    462.211415\n",
            "gdpPercap_1987    389.876185\n",
            "gdpPercap_1992    410.896824\n",
            "gdpPercap_1997    312.188423\n",
            "gdpPercap_2002    241.165876\n",
            "gdpPercap_2007    277.551859\n",
            "dtype: float64\n"
          ]
        }
      ],
      "source": [
        "import pandas as pd \n",
        "for FileName in ['data/gapminder_gdp_americas.csv', 'data/gapminder_gdp_africa.csv']:\n",
        "  data = pd.read_csv(FileName, index_col='country')\n",
        "  print(FileName, data.min())"
      ]
    },
    {
      "cell_type": "code",
      "execution_count": null,
      "metadata": {
        "colab": {
          "base_uri": "https://localhost:8080/"
        },
        "id": "HQ1e2YCR3TmR",
        "outputId": "d94d12fb-9035-4d06-b4af-cee8f3d33686"
      },
      "outputs": [
        {
          "name": "stdout",
          "output_type": "stream",
          "text": [
            "all csv files: ['data/gapminder_gdp_europe.csv', 'data/gapminder_gdp_americas.csv', 'data/gapminder_gdp_oceania.csv', 'data/gapminder_gdp_africa.csv', 'data/gapminder_gdp_asia.csv', 'data/gapminder_all.csv']\n"
          ]
        }
      ],
      "source": [
        "import glob\n",
        "print('all csv files:', glob.glob('data/gapminder_*.csv'))"
      ]
    },
    {
      "cell_type": "code",
      "execution_count": null,
      "metadata": {
        "colab": {
          "base_uri": "https://localhost:8080/"
        },
        "id": "N_ijuMKB3uXZ",
        "outputId": "48951b48-477f-461c-a281-a3c95701868d"
      },
      "outputs": [
        {
          "name": "stdout",
          "output_type": "stream",
          "text": [
            "data/gapminder_gdp_europe.csv GDP_1977_minimum 3528.481305\n",
            "data/gapminder_gdp_americas.csv GDP_1977_minimum 1874.298931\n",
            "data/gapminder_gdp_oceania.csv GDP_1977_minimum 16233.7177\n",
            "data/gapminder_gdp_africa.csv GDP_1977_minimum 502.3197334\n",
            "data/gapminder_gdp_asia.csv GDP_1977_minimum 371.0\n"
          ]
        }
      ],
      "source": [
        "for FileName in glob.glob('data/gapminder_gdp*.csv'):\n",
        "  data = pd.read_csv(FileName)\n",
        "  print(FileName, 'GDP_1977_minimum', data['gdpPercap_1977'].min())\n"
      ]
    },
    {
      "cell_type": "code",
      "execution_count": null,
      "metadata": {
        "colab": {
          "base_uri": "https://localhost:8080/"
        },
        "id": "TW7RblD54YwM",
        "outputId": "bbba9669-3f23-4308-9e98-a5697137e5a3"
      },
      "outputs": [
        {
          "name": "stdout",
          "output_type": "stream",
          "text": [
            "data/gapminder_gdp_europe.csv GDP_1977_minimum 5937.029526\n",
            "data/gapminder_gdp_americas.csv GDP_1977_minimum 1201.637154\n",
            "data/gapminder_gdp_oceania.csv GDP_1977_minimum 25185.00911\n",
            "data/gapminder_gdp_africa.csv GDP_1977_minimum 277.5518587\n",
            "data/gapminder_gdp_asia.csv GDP_1977_minimum 944.0\n"
          ]
        }
      ],
      "source": [
        "for FileName in glob.glob('data/gapminder_gdp*.csv'):\n",
        "  data = pd.read_csv(FileName)\n",
        "  print(FileName, 'GDP_1977_minimum', data['gdpPercap_2007'].min())\n"
      ]
    },
    {
      "cell_type": "markdown",
      "metadata": {
        "id": "SC2qqvXX46Yp"
      },
      "source": [
        "## functions "
      ]
    },
    {
      "cell_type": "code",
      "execution_count": null,
      "metadata": {
        "colab": {
          "base_uri": "https://localhost:8080/"
        },
        "id": "7_CwVj4p476a",
        "outputId": "0d0d1f93-b9f0-4fdf-d0ea-d082bf17e0c3"
      },
      "outputs": [
        {
          "name": "stdout",
          "output_type": "stream",
          "text": [
            "212.0\n"
          ]
        }
      ],
      "source": [
        "InitCtemp = 100\n",
        "Ftemp=(9/5)*float(InitCtemp)+32\n",
        "print(Ftemp)"
      ]
    },
    {
      "cell_type": "code",
      "execution_count": null,
      "metadata": {
        "id": "PqhVzKIn5SOg"
      },
      "outputs": [],
      "source": [
        "from prompt_toolkit.shortcuts.utils import print_container\n",
        "def temp_cov(temp, scale): \n",
        "  if scale == 'C':\n",
        "    #print(str(temp)+ ' C = '+str((9/5)*float(temp)+32)+ ' F ')\n",
        "    return(str((9/5)*float(temp)))\n",
        "  elif scale == ' F ':\n",
        "    #print(str(temp)+ ' F '+str((5/9)*float(temp)-32)+ 'C')\n",
        "    return(str((5/9)*float(temp)))\n",
        "  else:\n",
        "    print('you made a mistake')"
      ]
    },
    {
      "cell_type": "code",
      "execution_count": null,
      "metadata": {
        "colab": {
          "base_uri": "https://localhost:8080/",
          "height": 35
        },
        "id": "SUw8FZ-T5yzS",
        "outputId": "eb90f414-5944-439e-f6de-8f80a3a7cb6e"
      },
      "outputs": [
        {
          "data": {
            "application/vnd.google.colaboratory.intrinsic+json": {
              "type": "string"
            },
            "text/plain": [
              "'180.0'"
            ]
          },
          "execution_count": 95,
          "metadata": {},
          "output_type": "execute_result"
        }
      ],
      "source": [
        "temp_cov(100, 'C')"
      ]
    },
    {
      "cell_type": "code",
      "execution_count": null,
      "metadata": {
        "id": "V_iIAdxn72y-"
      },
      "outputs": [],
      "source": [
        "new_temps=[]\n",
        "for x in temps:\n",
        "  y=float(temp_cov(x, ' F '))\n",
        "  new_temps.append(y)"
      ]
    },
    {
      "cell_type": "code",
      "execution_count": null,
      "metadata": {
        "colab": {
          "base_uri": "https://localhost:8080/"
        },
        "id": "UXH00Xrv9COf",
        "outputId": "97594a31-21ee-4bb8-96e5-6a2787236737"
      },
      "outputs": [
        {
          "name": "stdout",
          "output_type": "stream",
          "text": [
            "[-25.0, -22.22222222222222, -22.22222222222222, -2.7777777777777777, 0.0, 0.0, 17.77777777777778, 40.0, 41.66666666666667, 54.77777777777778, 55.55555555555556, 117.77777777777779, 555.5555555555555]\n"
          ]
        }
      ],
      "source": [
        "print(new_temps)"
      ]
    },
    {
      "cell_type": "code",
      "execution_count": null,
      "metadata": {
        "colab": {
          "base_uri": "https://localhost:8080/",
          "height": 35
        },
        "id": "7KeL-D7SrXC_",
        "outputId": "7f0b3f04-d85b-42f1-de54-5e33c210efb7"
      },
      "outputs": [
        {
          "data": {
            "application/vnd.google.colaboratory.intrinsic+json": {
              "type": "string"
            },
            "text/plain": [
              "'52'"
            ]
          },
          "execution_count": 6,
          "metadata": {},
          "output_type": "execute_result"
        }
      ],
      "source": [
        "str(52)\n",
        "print"
      ]
    },
    {
      "cell_type": "code",
      "execution_count": null,
      "metadata": {
        "colab": {
          "base_uri": "https://localhost:8080/"
        },
        "id": "e8ykHvWJ9VNK",
        "outputId": "ffa12d23-342d-448e-f149-84edf8f12062"
      },
      "outputs": [
        {
          "name": "stdout",
          "output_type": "stream",
          "text": [
            "1\n",
            "2\n",
            "3\n",
            "4\n",
            "5\n"
          ]
        }
      ],
      "source": [
        "x = [1,2,3,4,5]\n",
        "for y in x:\n",
        "     print(y)\n"
      ]
    },
    {
      "cell_type": "code",
      "execution_count": null,
      "metadata": {
        "colab": {
          "base_uri": "https://localhost:8080/"
        },
        "id": "a-3ez-pVAsRE",
        "outputId": "af8948ac-b674-4691-8e30-68f54ef7393f"
      },
      "outputs": [
        {
          "name": "stdout",
          "output_type": "stream",
          "text": [
            "0\n",
            "1\n"
          ]
        }
      ],
      "source": [
        "x = 0\n",
        "while x <= 0:\n",
        "     print(x)\n",
        "     x = x+1\n",
        "\n",
        "\n",
        "print(x)"
      ]
    },
    {
      "cell_type": "code",
      "execution_count": null,
      "metadata": {
        "colab": {
          "base_uri": "https://localhost:8080/"
        },
        "id": "LMUkfFz3JW0c",
        "outputId": "90f66933-0793-4a5d-acc3-e126066a6f42"
      },
      "outputs": [
        {
          "name": "stdout",
          "output_type": "stream",
          "text": [
            "What is your input: 5\n"
          ]
        }
      ],
      "source": [
        "foo = input('What is your input: ')"
      ]
    },
    {
      "cell_type": "code",
      "execution_count": null,
      "metadata": {
        "colab": {
          "background_save": true
        },
        "id": "ltK0RwsiJ98x",
        "outputId": "7f76a3e4-9db0-45f4-c83b-2c8669e9b121"
      },
      "outputs": [
        {
          "name": "stdout",
          "output_type": "stream",
          "text": [
            "[]\n"
          ]
        },
        {
          "data": {
            "text/plain": [
              "list"
            ]
          },
          "execution_count": 26,
          "metadata": {},
          "output_type": "execute_result"
        }
      ],
      "source": [
        "XXX = [] \n",
        "print(XXX)\n",
        "type(XXX)\n"
      ]
    }
  ],
  "metadata": {
    "colab": {
      "provenance": [],
      "authorship_tag": "ABX9TyPjRWCwCiphLnJB/aLBsBog",
      "include_colab_link": true
    },
    "kernelspec": {
      "display_name": "Python 3",
      "name": "python3"
    },
    "language_info": {
      "name": "python"
    }
  },
  "nbformat": 4,
  "nbformat_minor": 0
}